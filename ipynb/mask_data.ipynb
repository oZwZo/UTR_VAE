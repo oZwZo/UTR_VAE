{
 "cells": [
  {
   "cell_type": "code",
   "execution_count": 6,
   "metadata": {},
   "outputs": [
    {
     "name": "stdout",
     "output_type": "stream",
     "text": [
      "/home/wergillius/Project/UTR_VAE\n"
     ]
    }
   ],
   "source": [
    "import os\n",
    "import sys\n",
    "import pandas as pd\n",
    "import numpy as np\n",
    "import re\n",
    "import PATH\n",
    "import torch\n",
    "from torch import nn\n",
    "\n",
    "from torch.utils.data import DataLoader,Dataset,random_split\n",
    "\n",
    "from matplotlib import pyplot as plt\n",
    "\n",
    "from models.popen import Auto_popen\n",
    "from models.ScheduleOptimizer import ScheduledOptim \n",
    "from models.log_and_save import Log_parser,plot_a_exp_set\n",
    "from models import reader\n",
    "from models import DL_models"
   ]
  },
  {
   "cell_type": "code",
   "execution_count": 7,
   "metadata": {},
   "outputs": [],
   "source": [
    "from importlib import reload"
   ]
  },
  {
   "cell_type": "code",
   "execution_count": 8,
   "metadata": {},
   "outputs": [
    {
     "name": "stdout",
     "output_type": "stream",
     "text": [
      "/home/wergillius/Project/UTR_VAE\n"
     ]
    }
   ],
   "source": [
    "import utils\n",
    "reload(utils)\n",
    "from utils import Seq_one_hot,read_UTR_csv,read_label"
   ]
  },
  {
   "cell_type": "markdown",
   "metadata": {},
   "source": [
    "## read A549 data"
   ]
  },
  {
   "cell_type": "code",
   "execution_count": 8,
   "metadata": {},
   "outputs": [],
   "source": [
    "A549_csv = read_UTR_csv(cell_line='A549')"
   ]
  },
  {
   "cell_type": "code",
   "execution_count": null,
   "metadata": {},
   "outputs": [],
   "source": [
    "reader.get_splited_dataloader()"
   ]
  },
  {
   "cell_type": "code",
   "execution_count": 26,
   "metadata": {},
   "outputs": [],
   "source": [
    "X = Seq_one_hot().d_transform(A549_csv,flattern=False) # (3970, 100, 4)"
   ]
  },
  {
   "cell_type": "code",
   "execution_count": 47,
   "metadata": {},
   "outputs": [],
   "source": [
    "mask_index = np.random.randint(0,100,(3970,10,5))"
   ]
  },
  {
   "cell_type": "code",
   "execution_count": 42,
   "metadata": {},
   "outputs": [],
   "source": [
    "mask_X = X.copy()"
   ]
  },
  {
   "cell_type": "code",
   "execution_count": 43,
   "metadata": {},
   "outputs": [],
   "source": [
    "zeros = np.zeros(shape=[3970, 100,1])"
   ]
  },
  {
   "cell_type": "code",
   "execution_count": 54,
   "metadata": {},
   "outputs": [],
   "source": [
    "X_orin = np.concatenate([mask_X,zeros],axis=2)"
   ]
  },
  {
   "cell_type": "code",
   "execution_count": 107,
   "metadata": {},
   "outputs": [],
   "source": [
    "dataset = reader.UTR_dataset(cell_line='A549')\n",
    "ratio = [0.7,0.2,0.1]\n",
    "total_len = len(dataset)\n",
    "lengths = [int(total_len*ratio[0]),int(len(dataset)*ratio[1])]\n",
    "lengths.append(total_len-sum(lengths))         # make sure the sum of length is the total len\n",
    "\n",
    "set_ls = random_split(X_orin,lengths,generator=torch.Generator().manual_seed(42))         # split dataset "
   ]
  },
  {
   "cell_type": "code",
   "execution_count": 108,
   "metadata": {},
   "outputs": [],
   "source": [
    "train_set,val_set,test_set = set_ls"
   ]
  },
  {
   "cell_type": "code",
   "execution_count": 112,
   "metadata": {},
   "outputs": [
    {
     "data": {
      "text/plain": [
       "(2779, 794, 397)"
      ]
     },
     "execution_count": 112,
     "metadata": {},
     "output_type": "execute_result"
    }
   ],
   "source": [
    "len(train_set),len(val_set),len(test_set)"
   ]
  },
  {
   "cell_type": "markdown",
   "metadata": {},
   "source": [
    "## mask and save to npy"
   ]
  },
  {
   "cell_type": "code",
   "execution_count": 111,
   "metadata": {},
   "outputs": [],
   "source": [
    "train_data = []\n",
    "for data_ii in range(2779):\n",
    "    for repeat in range(10):\n",
    "        X_5dim = X_orin[data_ii].copy()\n",
    "        \n",
    "        to_mask = mask_index[data_ii,repeat]\n",
    "        X_5dim[to_mask,:]=0\n",
    "        X_5dim[to_mask,4]=1\n",
    "        \n",
    "        train_data.append((X_5dim,X_orin[data_ii]))"
   ]
  },
  {
   "cell_type": "code",
   "execution_count": 123,
   "metadata": {},
   "outputs": [],
   "source": [
    "train_data = np.array(train_data)"
   ]
  },
  {
   "cell_type": "code",
   "execution_count": 128,
   "metadata": {},
   "outputs": [],
   "source": [
    "np.save(os.path.join(reader.data_dir,'train_mask.npy'),train_data)"
   ]
  },
  {
   "cell_type": "code",
   "execution_count": 117,
   "metadata": {},
   "outputs": [],
   "source": [
    "val_data = []\n",
    "for data_ii in range(2779,2779+794):\n",
    "    for repeat in range(10):\n",
    "        X_5dim = X_orin[data_ii].copy()\n",
    "        \n",
    "        to_mask = mask_index[data_ii,repeat]\n",
    "        X_5dim[to_mask,:]=0\n",
    "        X_5dim[to_mask,4]=1\n",
    "        \n",
    "        val_data.append((X_5dim,X_orin[data_ii]))"
   ]
  },
  {
   "cell_type": "code",
   "execution_count": 130,
   "metadata": {},
   "outputs": [],
   "source": [
    "val_data = np.array(val_data)\n",
    "np.save(os.path.join(reader.data_dir,'val_mask.npy'),val_data)"
   ]
  },
  {
   "cell_type": "code",
   "execution_count": 119,
   "metadata": {},
   "outputs": [],
   "source": [
    "test_data = []\n",
    "for data_ii in range(3573,3573+397):\n",
    "    for repeat in range(10):\n",
    "        X_5dim = X_orin[data_ii].copy()\n",
    "        \n",
    "        to_mask = mask_index[data_ii,repeat]\n",
    "        X_5dim[to_mask,:]=0\n",
    "        X_5dim[to_mask,4]=1\n",
    "        \n",
    "        test_data.append((X_5dim,X_orin[data_ii]))"
   ]
  },
  {
   "cell_type": "code",
   "execution_count": 129,
   "metadata": {},
   "outputs": [],
   "source": [
    "test_data = np.array(test_data)\n",
    "np.save(os.path.join(reader.data_dir,'test_mask.npy'),test_data)"
   ]
  },
  {
   "cell_type": "code",
   "execution_count": null,
   "metadata": {},
   "outputs": [],
   "source": []
  },
  {
   "cell_type": "markdown",
   "metadata": {
    "collapsed": "true"
   },
   "source": [
    "## make a new data reader"
   ]
  },
  {
   "cell_type": "code",
   "execution_count": 5,
   "metadata": {},
   "outputs": [
    {
     "ename": "FileNotFoundError",
     "evalue": "[Errno 2] No such file or directory: '/data/users/wergillius/UTR_VAE/data/train_mask.npy'",
     "output_type": "error",
     "traceback": [
      "\u001b[0;31m---------------------------------------------------------------------------\u001b[0m",
      "\u001b[0;31mFileNotFoundError\u001b[0m                         Traceback (most recent call last)",
      "\u001b[0;32m<ipython-input-5-2e682386ee8c>\u001b[0m in \u001b[0;36m<module>\u001b[0;34m\u001b[0m\n\u001b[0;32m----> 1\u001b[0;31m \u001b[0mtrain_set1\u001b[0m \u001b[0;34m=\u001b[0m \u001b[0mnp\u001b[0m\u001b[0;34m.\u001b[0m\u001b[0mload\u001b[0m\u001b[0;34m(\u001b[0m\u001b[0mos\u001b[0m\u001b[0;34m.\u001b[0m\u001b[0mpath\u001b[0m\u001b[0;34m.\u001b[0m\u001b[0mjoin\u001b[0m\u001b[0;34m(\u001b[0m\u001b[0mreader\u001b[0m\u001b[0;34m.\u001b[0m\u001b[0mdata_dir\u001b[0m\u001b[0;34m,\u001b[0m\u001b[0;34m'train_mask.npy'\u001b[0m\u001b[0;34m)\u001b[0m\u001b[0;34m)\u001b[0m\u001b[0;34m\u001b[0m\u001b[0;34m\u001b[0m\u001b[0m\n\u001b[0m",
      "\u001b[0;32m~/.conda/envs/pytorch/lib/python3.8/site-packages/numpy/lib/npyio.py\u001b[0m in \u001b[0;36mload\u001b[0;34m(file, mmap_mode, allow_pickle, fix_imports, encoding)\u001b[0m\n\u001b[1;32m    414\u001b[0m             \u001b[0mown_fid\u001b[0m \u001b[0;34m=\u001b[0m \u001b[0;32mFalse\u001b[0m\u001b[0;34m\u001b[0m\u001b[0;34m\u001b[0m\u001b[0m\n\u001b[1;32m    415\u001b[0m         \u001b[0;32melse\u001b[0m\u001b[0;34m:\u001b[0m\u001b[0;34m\u001b[0m\u001b[0;34m\u001b[0m\u001b[0m\n\u001b[0;32m--> 416\u001b[0;31m             \u001b[0mfid\u001b[0m \u001b[0;34m=\u001b[0m \u001b[0mstack\u001b[0m\u001b[0;34m.\u001b[0m\u001b[0menter_context\u001b[0m\u001b[0;34m(\u001b[0m\u001b[0mopen\u001b[0m\u001b[0;34m(\u001b[0m\u001b[0mos_fspath\u001b[0m\u001b[0;34m(\u001b[0m\u001b[0mfile\u001b[0m\u001b[0;34m)\u001b[0m\u001b[0;34m,\u001b[0m \u001b[0;34m\"rb\"\u001b[0m\u001b[0;34m)\u001b[0m\u001b[0;34m)\u001b[0m\u001b[0;34m\u001b[0m\u001b[0;34m\u001b[0m\u001b[0m\n\u001b[0m\u001b[1;32m    417\u001b[0m             \u001b[0mown_fid\u001b[0m \u001b[0;34m=\u001b[0m \u001b[0;32mTrue\u001b[0m\u001b[0;34m\u001b[0m\u001b[0;34m\u001b[0m\u001b[0m\n\u001b[1;32m    418\u001b[0m \u001b[0;34m\u001b[0m\u001b[0m\n",
      "\u001b[0;31mFileNotFoundError\u001b[0m: [Errno 2] No such file or directory: '/data/users/wergillius/UTR_VAE/data/train_mask.npy'"
     ]
    }
   ],
   "source": [
    "train_set1 = np.load(os.path.join(reader.data_dir,'train_mask.npy'))"
   ]
  },
  {
   "cell_type": "code",
   "execution_count": 135,
   "metadata": {},
   "outputs": [],
   "source": [
    "X = train_set1[:,0]\n",
    "Y = train_set1[:,1]"
   ]
  },
  {
   "cell_type": "code",
   "execution_count": 137,
   "metadata": {},
   "outputs": [
    {
     "data": {
      "text/plain": [
       "(27790, 100, 5)"
      ]
     },
     "execution_count": 137,
     "metadata": {},
     "output_type": "execute_result"
    }
   ],
   "source": [
    "Y.shape"
   ]
  },
  {
   "cell_type": "code",
   "execution_count": 134,
   "metadata": {},
   "outputs": [
    {
     "data": {
      "text/plain": [
       "dtype('float64')"
      ]
     },
     "execution_count": 134,
     "metadata": {},
     "output_type": "execute_result"
    }
   ],
   "source": [
    "train_set1.dtype"
   ]
  },
  {
   "cell_type": "code",
   "execution_count": 142,
   "metadata": {},
   "outputs": [],
   "source": [
    "mask_train_set = mask_reader(os.path.join(reader.data_dir,'train_mask.npy'))"
   ]
  },
  {
   "cell_type": "code",
   "execution_count": 145,
   "metadata": {},
   "outputs": [],
   "source": [
    "train_loader = DataLoader(mask_train_set,batch_size=10)"
   ]
  },
  {
   "cell_type": "code",
   "execution_count": 148,
   "metadata": {},
   "outputs": [],
   "source": [
    "loader=iter(train_loader)"
   ]
  },
  {
   "cell_type": "code",
   "execution_count": 149,
   "metadata": {},
   "outputs": [],
   "source": [
    "X,Y=next(loader)"
   ]
  },
  {
   "cell_type": "code",
   "execution_count": 166,
   "metadata": {},
   "outputs": [],
   "source": [
    "train_loader,val_loader,test_loader = reader.get_mask_dataloader(10,4)"
   ]
  },
  {
   "cell_type": "code",
   "execution_count": 167,
   "metadata": {},
   "outputs": [],
   "source": [
    "train_iter = iter(train_loader)"
   ]
  },
  {
   "cell_type": "code",
   "execution_count": 169,
   "metadata": {},
   "outputs": [],
   "source": [
    "X,Y = next(train_iter)"
   ]
  },
  {
   "cell_type": "markdown",
   "metadata": {},
   "source": [
    "## Ex data"
   ]
  },
  {
   "cell_type": "code",
   "execution_count": 9,
   "metadata": {},
   "outputs": [],
   "source": [
    "from models import reader"
   ]
  },
  {
   "cell_type": "code",
   "execution_count": 10,
   "metadata": {},
   "outputs": [],
   "source": [
    "data_dir = \"/data/users/wergillius/UTR_VAE/Ex_data\""
   ]
  },
  {
   "cell_type": "code",
   "execution_count": 11,
   "metadata": {},
   "outputs": [
    {
     "data": {
      "text/plain": [
       "['GSM3130443_designed_library.csv',\n",
       " 'GSM3130435_egfp_unmod_1.csv',\n",
       " 'GSM3130438_egfp_pseudo_2.csv',\n",
       " 'GSM3130441_mcherry_1.csv',\n",
       " 'GSM3130439_egfp_m1pseudo_1.csv',\n",
       " 'GSM3130442_mcherry_2.csv',\n",
       " 'GSM3130437_egfp_pseudo_1.csv',\n",
       " 'GSM4084997_varying_length_25to100.csv',\n",
       " 'GSM3130436_egfp_unmod_2.csv',\n",
       " 'GSM3130440_egfp_m1pseudo_2.csv']"
      ]
     },
     "execution_count": 11,
     "metadata": {},
     "output_type": "execute_result"
    }
   ],
   "source": [
    "file=os.listdir(data_dir)\n",
    "file"
   ]
  },
  {
   "cell_type": "code",
   "execution_count": 19,
   "metadata": {},
   "outputs": [
    {
     "name": "stderr",
     "output_type": "stream",
     "text": [
      "/home/wergillius/.conda/envs/pytorch/lib/python3.8/site-packages/IPython/core/interactiveshell.py:3145: DtypeWarning: Columns (33,34,35,36,37) have mixed types.Specify dtype option on import or set low_memory=False.\n",
      "  has_raised = await self.run_ast_nodes(code_ast.body, cell_name,\n"
     ]
    },
    {
     "data": {
      "text/plain": [
       "(100017, 42)"
      ]
     },
     "execution_count": 19,
     "metadata": {},
     "output_type": "execute_result"
    }
   ],
   "source": [
    "vleng_df = pd.read_csv(os.path.join(data_dir,file[0]))\n",
    "vleng_df.shape"
   ]
  },
  {
   "cell_type": "code",
   "execution_count": 20,
   "metadata": {},
   "outputs": [
    {
     "data": {
      "text/plain": [
       "Index(['Unnamed: 0', 'utr', '0', '1', '2', '3', '4', '5', '6', '7', '8', '9',\n",
       "       '10', '11', '12', '13', 'total', 'r0', 'r1', 'r2', 'r3', 'r4', 'r5',\n",
       "       'r6', 'r7', 'r8', 'r9', 'r10', 'r11', 'r12', 'r13', 'r_total', 'rl',\n",
       "       'id', 'info1', 'info2', 'info3', 'info4', 'library', 'mother',\n",
       "       'designed', 'match_score'],\n",
       "      dtype='object')"
      ]
     },
     "execution_count": 20,
     "metadata": {},
     "output_type": "execute_result"
    }
   ],
   "source": [
    "vleng_df.columns"
   ]
  },
  {
   "cell_type": "code",
   "execution_count": 21,
   "metadata": {},
   "outputs": [
    {
     "data": {
      "text/plain": [
       "array([4.82308169, 6.25220814, 7.49957397, ..., 2.33541198, 7.1217235 ,\n",
       "       5.69451145])"
      ]
     },
     "execution_count": 21,
     "metadata": {},
     "output_type": "execute_result"
    }
   ],
   "source": [
    "vleng_df.rl.values"
   ]
  },
  {
   "cell_type": "code",
   "execution_count": 41,
   "metadata": {},
   "outputs": [],
   "source": [
    "ex_sequence = vleng_df[(vleng_df.library == 'human_utrs')|(vleng_df.library == 'snv')].loc[:,['utr','rl','r_total','match_score','library']]"
   ]
  },
  {
   "cell_type": "code",
   "execution_count": null,
   "metadata": {},
   "outputs": [],
   "source": []
  },
  {
   "cell_type": "code",
   "execution_count": 234,
   "metadata": {},
   "outputs": [],
   "source": [
    "# discretize the data into 50 nt\n",
    "ex_sequence = np.array([list(seq) for seq in ex_sequence])\n",
    "ex_sequence.shape\n",
    "# one hot\n",
    "short_oh = Seq_one_hot(seq_len = 50)\n",
    "ex_oh = short_oh.transform(ex_sequence,False)"
   ]
  },
  {
   "cell_type": "markdown",
   "metadata": {
    "collapsed": "true"
   },
   "source": [
    "## mask and padding to 100"
   ]
  },
  {
   "cell_type": "code",
   "execution_count": 289,
   "metadata": {},
   "outputs": [
    {
     "data": {
      "text/plain": [
       "(23552, 100, 5)"
      ]
     },
     "execution_count": 289,
     "metadata": {},
     "output_type": "execute_result"
    }
   ],
   "source": [
    "n = ex_oh.shape[0]\n",
    "padding_25 = np.zeros((n,25,5))\n",
    "zeros_side = np.zeros((n,50,1))\n",
    "\n",
    "# make one hot sequence to 5 dimension\n",
    "ex_orin = np.concatenate([ex_oh,zeros_side],axis=2)\n",
    "ex_5dim_long = np.concatenate([padding_25,ex_orin,padding_25],axis=1)\n",
    "ex_5dim_long.shape"
   ]
  },
  {
   "cell_type": "code",
   "execution_count": 290,
   "metadata": {},
   "outputs": [],
   "source": [
    "ratio = [0.7,0.2,0.1]\n",
    "lengths = [int(n*ratio[0]),int(n*ratio[1])]\n",
    "lengths.append(n-sum(lengths))\n",
    "train,val,test=random_split(ex_5dim_long,lengths=lengths,generator=torch.Generator().manual_seed(42))"
   ]
  },
  {
   "cell_type": "code",
   "execution_count": 291,
   "metadata": {},
   "outputs": [
    {
     "data": {
      "text/plain": [
       "[16486, 4710, 2356]"
      ]
     },
     "execution_count": 291,
     "metadata": {},
     "output_type": "execute_result"
    }
   ],
   "source": [
    "lengths"
   ]
  },
  {
   "cell_type": "code",
   "execution_count": 322,
   "metadata": {},
   "outputs": [],
   "source": [
    "mask_index = np.random.randint(25,75,(n,4,4))"
   ]
  },
  {
   "cell_type": "code",
   "execution_count": 323,
   "metadata": {},
   "outputs": [],
   "source": [
    "def mask_sequence(dataset,mask_index=mask_index):\n",
    "    final = []\n",
    "    for seq in range(len(dataset)):\n",
    "        final.append((dataset[seq],dataset[seq]))\n",
    "        for n in range(mask_index.shape[1]):\n",
    "            sequence = dataset[seq].copy()\n",
    "            sequence[mask_index[seq,n],:]=0\n",
    "            sequence[mask_index[seq,n],4]=1\n",
    "            final.append((sequence,dataset[seq]))\n",
    "    \n",
    "    final = np.array(final)\n",
    "    print(final.shape)\n",
    "    return final"
   ]
  },
  {
   "cell_type": "code",
   "execution_count": 333,
   "metadata": {},
   "outputs": [
    {
     "name": "stdout",
     "output_type": "stream",
     "text": [
      "(82430, 2, 100, 5)\n",
      "(23550, 2, 100, 5)\n",
      "(11780, 2, 100, 5)\n"
     ]
    }
   ],
   "source": [
    "ex_train_masked = mask_sequence(train)\n",
    "ex_val_masked = mask_sequence(val)\n",
    "ex_test_masked = mask_sequence(test)"
   ]
  },
  {
   "cell_type": "markdown",
   "metadata": {},
   "source": [
    "mix with our data and save "
   ]
  },
  {
   "cell_type": "code",
   "execution_count": 343,
   "metadata": {},
   "outputs": [],
   "source": [
    "mix_train = np.concatenate([train_data,ex_train_masked],axis=0)\n",
    "mix_val = np.concatenate([val_data,ex_val_masked],axis=0)\n",
    "mix_test = np.concatenate([test_data,ex_test_masked],axis=0)\n",
    "\n",
    "print(mix_train.shape)\n",
    "print(mix_val.shape)\n",
    "print(mix_test.shape)\n",
    "\n",
    "np.save(os.path.join(utils.data_dir,'mix_data','mix_train.npy'),mix_train)\n",
    "np.save(os.path.join(utils.data_dir,'mix_data','mix_val.npy'),mix_val)\n",
    "np.save(os.path.join(utils.data_dir,'mix_data','mix_test.npy'),mix_test)"
   ]
  },
  {
   "cell_type": "markdown",
   "metadata": {},
   "source": [
    "check sequence"
   ]
  },
  {
   "cell_type": "code",
   "execution_count": 334,
   "metadata": {},
   "outputs": [
    {
     "data": {
      "image/png": "[encoded data removed]",
      "text/plain": [
       "<Figure size 432x288 with 1 Axes>"
      ]
     },
     "metadata": {
      "needs_background": "light"
     },
     "output_type": "display_data"
    }
   ],
   "source": [
    "plt.imshow(ex_train_masked[5,0].T,aspect='auto');"
   ]
  },
  {
   "cell_type": "code",
   "execution_count": null,
   "metadata": {},
   "outputs": [],
   "source": []
  }
 ],
 "metadata": {
  "kernelspec": {
   "display_name": "Python 3",
   "language": "python",
   "name": "python3"
  },
  "language_info": {
   "codemirror_mode": {
    "name": "ipython",
    "version": 3
   },
   "file_extension": ".py",
   "mimetype": "text/x-python",
   "name": "python",
   "nbconvert_exporter": "python",
   "pygments_lexer": "ipython3",
   "version": "3.8.5"
  }
 },
 "nbformat": 4,
 "nbformat_minor": 4
}
