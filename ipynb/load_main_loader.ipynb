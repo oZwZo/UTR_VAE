{
 "cells": [
  {
   "cell_type": "markdown",
   "metadata": {},
   "source": [
    "# Usage guidence"
   ]
  },
  {
   "cell_type": "markdown",
   "metadata": {},
   "source": [
    "<font color='darkgreen' size=5>**newly trained model**</font>\n",
    "1. **load model from config file with function `read_main_model_dataloader`  and get resumed model , val loader , popen from `out_dict`** \n",
    "  \n",
    "```python\n",
    "config_file = \"/home/wergillius/Project/UTR_VAE/log/CrossStitch/CrossStitch_Model_MTL/DTP/gamma_t2_blr.ini\" \n",
    "out_dict = read_main_model_dataloader(config_file,cuda_id=2) \n",
    "# from out_dict\n",
    "model = out_dict['model'] \n",
    "train_loader = out_dict['train_loader'] \n",
    "val_loader = out_dict['val_loader'] \n",
    "POPEN = out_dict['popen'] \n",
    "```\n",
    "2. **forward**   \n",
    "\n",
    "```python\n",
    "y_true_ls = []\n",
    "y_pred_ls = []\n",
    "cuda_id =2\n",
    "```\n",
    "    \n",
    "```python\n",
    "with torch.no_grad():  \n",
    "    for X,Y in tqdm(val_loader):\n",
    "\n",
    "        y_true_ls.append(Y.cpu().numpy())\n",
    "        X = X.float().cuda(cuda_id)\n",
    "\n",
    "        y_pred = model.backbone['RL'](X)\n",
    "\n",
    "        y_pred_ls.append(y_pred.cpu().numpy())\n",
    "        torch.cuda.empty_cache\n",
    "\n",
    "# aggrate result\n",
    "y_true_ay = np.stack([arry[:,0] for arry in y_true_ls])\n",
    "y_pred_ay = np.stack(y_pred_ls).squeeze()\n",
    "y_true_f = y_true_ay.flatten()\n",
    "y_pred_f = y_pred_ay.flatten()\n",
    "```\n",
    "\n",
    "3. **save result**  \n",
    "\n",
    "```python\n",
    "save_result_to_csv(y_true_f,y_pred_f,save_path,motif_detection)\n",
    "```    \n",
    "\n",
    "4.**get 4 data for analysis**\n",
    "\n",
    "```python\n",
    "uAUG_tre,uAUG_pred,nAUG_tre,nAUG_pred = get_4_types_data_from_csv(df)\n",
    "```\n",
    "\n",
    "5.**compute R square**\n",
    "\n",
    "```python\n",
    "exp_r2 = compute_r2(y_true_f,y_pred_f)\n",
    "```\n",
    "6.**plot the result**\n",
    "\n",
    "```python\n",
    "my_kde_joint_plot(uAUG_tre,uAUG_pred,nAUG_tre,nAUG_pred,'plot_title')\n",
    "```\n",
    "<font color='darkgreen' size=5>**analysis from saved csv**</font>\n",
    "\n",
    "1. **read csv**\n",
    "\n",
    "\n",
    "2. **get 4 data for analysis**\n",
    "\n",
    "\n",
    "3. **compute R square**\n",
    "\n",
    "\n",
    "4. **plot the result**"
   ]
  },
  {
   "cell_type": "markdown",
   "metadata": {},
   "source": [
    "# Analysis part"
   ]
  },
  {
   "cell_type": "code",
   "execution_count": null,
   "metadata": {},
   "outputs": [],
   "source": [
    "import os\n",
    "import sys\n",
    "import pandas as pd\n",
    "import numpy as np\n",
    "import re\n",
    "import PATH\n",
    "import torch\n",
    "from tqdm import tqdm\n",
    "\n",
    "from importlib import reload\n",
    "import analysis_for_MTL as A_MTL\n",
    "\n",
    "from matplotlib import pyplot as plt\n"
   ]
  },
  {
   "cell_type": "code",
   "execution_count": null,
   "metadata": {},
   "outputs": [],
   "source": [
    "import seaborn as sns"
   ]
  },
  {
   "cell_type": "code",
   "execution_count": null,
   "metadata": {},
   "outputs": [],
   "source": [
    "reload(A_MTL)"
   ]
  },
  {
   "cell_type": "markdown",
   "metadata": {},
   "source": [
    "## some function\n",
    "\n",
    "all function are saved to `analysis_for_MTL.py`"
   ]
  },
  {
   "cell_type": "code",
   "execution_count": null,
   "metadata": {},
   "outputs": [],
   "source": [
    "def pipe_line_for_MTL(config_file):\n",
    "    config_file = \"/home/wergillius/\"+config_file\n",
    "    out_dict = A_MTL.read_main_model_dataloader(config_file,cuda_id=2)\n",
    "\n",
    "    model = out_dict['model']\n",
    "    train_loader = out_dict['train_loader']\n",
    "    val_loader = out_dict['val_loader']\n",
    "    POPEN = out_dict['popen']\n",
    "\n",
    "    y_true_ls = []\n",
    "    y_pred_ls = []\n",
    "    recon_acc_ls=[]\n",
    "    cuda_id = 2\n",
    "\n",
    "    with torch.no_grad():\n",
    "        for X,Y in tqdm(val_loader):\n",
    "            X = X.float().cuda(cuda_id)\n",
    "            y_true_ls.append(Y.cpu().numpy())\n",
    "\n",
    "            out = model(X)\n",
    "\n",
    "            acc = compute_acc(X,out['Recons'][0])\n",
    "\n",
    "            y_pred_ls.append(out['RL'])\n",
    "            recon_acc_ls.append(acc)\n",
    "            torch.cuda.empty_cache()\n",
    "\n",
    "    # y_true_ls contain y_ture and motif annotation\n",
    "    recon_acc_ay = np.stack([arry.detach().cpu().numpy() for arry in recon_acc_ls]).flatten()\n",
    "    y_true_ay = np.stack([arry[:,0] for arry in y_true_ls])  \n",
    "    y_pred_ay = np.stack([arry.detach().cpu().numpy() for arry in y_pred_ls]).squeeze()\n",
    "    y_true_f = y_true_ay.flatten()\n",
    "    y_pred_f = y_pred_ay.flatten()\n",
    "\n",
    "    csv_path = 'some_plot/Cross_stitch/%s.csv'%POPEN.run_name\n",
    "    df = A_MTL.save_result_to_csv(y_true_ls,y_true_f,y_pred_f,save_path=csv_path,motif_detection=True)\n",
    "\n",
    "    df.loc[:,'recon_acc'] = recon_acc_ay\n",
    "    df.to_csv(csv_path,index=False)\n",
    "    del model\n",
    "    return df"
   ]
  },
  {
   "cell_type": "code",
   "execution_count": null,
   "metadata": {},
   "outputs": [],
   "source": [
    "def pipeline_for_RL_backbone(config_file,cuda_id=3):\n",
    "\n",
    "    os.path.exists(config_file)\n",
    "    baseline_out_dict = A_MTL.read_main_model_dataloader(config_file,cuda_id)\n",
    "\n",
    "    model = baseline_out_dict['model']\n",
    "    train_loader = baseline_out_dict['train_loader']\n",
    "    val_loader = baseline_out_dict['val_loader']\n",
    "    POPEN = baseline_out_dict['popen']\n",
    "\n",
    "    y_true_ls = []\n",
    "    y_pred_ls = []\n",
    "    \n",
    "    with torch.no_grad():\n",
    "        for X,Y in tqdm(val_loader):\n",
    "            X = X.float().cuda(cuda_id)\n",
    "            y_true_ls.append(Y.cpu().numpy())\n",
    "\n",
    "            y_pred = model(X)\n",
    "            y_pred_ls.append(y_pred)\n",
    "\n",
    "    with_uAUG = np.stack([ary[:,1] for ary in y_true_ls]).squeeze().flatten()\n",
    "    y_true_f = np.stack([ary[:,0] for ary in y_true_ls]).squeeze().flatten()\n",
    "    y_pred_f = np.stack([ts.detach().cpu().numpy() for ts in y_pred_ls]).flatten()\n",
    "    \n",
    "    r2 = A_MTL.compute_r2(y_true_f,y_pred_f)\n",
    "    del model\n",
    "    return A_MTL.save_result_to_csv(y_true_ls,y_true_f,y_pred_f,save_path='some_plot/backbone/%s_result.csv'%POPEN.run_name,motif_detection=False),r2"
   ]
  },
  {
   "cell_type": "markdown",
   "metadata": {},
   "source": [
    "## Cross stitch model "
   ]
  },
  {
   "cell_type": "markdown",
   "metadata": {},
   "source": [
    "### <font color='darkred' size=5>read exp `gamma_t2_blr`</font>"
   ]
  },
  {
   "cell_type": "code",
   "execution_count": null,
   "metadata": {},
   "outputs": [],
   "source": [
    "config_file = \"Project/UTR_VAE/log/CrossStitch/CrossStitch_Model_MTL/DTP/gamma_t2_blr.ini\"\n",
    "\n",
    "gamma_b2_blr = pipe_line_for_MTL(config_file)"
   ]
  },
  {
   "cell_type": "code",
   "execution_count": null,
   "metadata": {},
   "outputs": [],
   "source": [
    "# gamma_t2_blr = A_MTL.save_result_to_csv(y_true_ls,y_true_f,y_pred_f,save_path='some_plot/gamma_t2_blr_result.csv')\n",
    "\n",
    "gamma_b2_blr_4 = A_MTL.get_4_types_data_from_csv(gamma_b2_blr)\n",
    "\n",
    "gamma_t2_blr_r2 = A_MTL.compute_r2(gamma_b2_blr.Y_true.values,gamma_b2_blr.Y_pred.values)"
   ]
  },
  {
   "cell_type": "code",
   "execution_count": null,
   "metadata": {},
   "outputs": [],
   "source": [
    "my_kde_joint_plot(*gamma_b2_blr_4,'Cross_stitch model with DTP\\n'+r'$\\alpha=0.9\\ \\beta=0.1\\ lr=1e-3$'\n",
    "                  ,r2=0.815,xlim=(0.7,10.3),ylim=(0.7,10.3))"
   ]
  },
  {
   "cell_type": "markdown",
   "metadata": {},
   "source": [
    "### read model `a5b5_g2_11`"
   ]
  },
  {
   "cell_type": "code",
   "execution_count": null,
   "metadata": {},
   "outputs": [],
   "source": [
    "config_file = \"Project/UTR_VAE/log/CrossStitch/CrossStitch_Model_MTL/a5b5/a5b5_g2_11.ini\"\n",
    "\n",
    "a5b5_g2_11 = pipe_line_for_MTL(config_file)"
   ]
  },
  {
   "cell_type": "code",
   "execution_count": null,
   "metadata": {},
   "outputs": [],
   "source": [
    "a5b5_g2_11_4 = A_MTL.get_4_types_data_from_csv(a5b5_g2_11)\n",
    "\n",
    "a5b5_g2_11_r2 = A_MTL.compute_r2(a5b5_g2_11.Y_true.values,a5b5_g2_11.Y_pred.values)"
   ]
  },
  {
   "cell_type": "code",
   "execution_count": null,
   "metadata": {},
   "outputs": [],
   "source": [
    "a5b5_g2_11_r2"
   ]
  },
  {
   "cell_type": "code",
   "execution_count": null,
   "metadata": {},
   "outputs": [],
   "source": [
    "my_kde_joint_plot(*a5b5_g2_11_4,'Cross_stitch model with DTP\\n alpha=0.5 bet=0.5 gamma 2 -1 1'\n",
    "                  ,r2=0.841,xlim=(0.7,10.3),ylim=(0.7,10.3))"
   ]
  },
  {
   "cell_type": "markdown",
   "metadata": {},
   "source": [
    "### read model `a5b5_g2_11_sslr`"
   ]
  },
  {
   "cell_type": "code",
   "execution_count": null,
   "metadata": {},
   "outputs": [],
   "source": [
    "config_file = \"Project/UTR_VAE/log/CrossStitch/CrossStitch_Model_MTL/a5b5/a5b5_g2_11_sslr.ini\"\n",
    "\n",
    "a5b5_g2_11_sslr = pipe_line_for_MTL(config_file)"
   ]
  },
  {
   "cell_type": "code",
   "execution_count": null,
   "metadata": {},
   "outputs": [],
   "source": [
    "a5b5_g2_11_sslr_4 = A_MTL.get_4_types_data_from_csv(a5b5_g2_11_sslr)\n",
    "\n",
    "a5b5_g2_11_sslr_r2 = A_MTL.compute_r2(a5b5_g2_11_sslr.Y_true.values,a5b5_g2_11_sslr.Y_pred.values)"
   ]
  },
  {
   "cell_type": "code",
   "execution_count": null,
   "metadata": {},
   "outputs": [],
   "source": [
    "print('toal r2 : ',a5b5_g2_11_sslr_r2)\n",
    "\n",
    "print('uAUG r2 : ',A_MTL.compute_r2(*a5b5_g2_11_sslr_4[:2]))\n",
    "\n",
    "print('nAUG r2 : ',A_MTL.compute_r2(*a5b5_g2_11_sslr_4[2:]))"
   ]
  },
  {
   "cell_type": "code",
   "execution_count": null,
   "metadata": {},
   "outputs": [],
   "source": [
    "a5b5_g2_11_sslr_4[0].mean()\n"
   ]
  },
  {
   "cell_type": "code",
   "execution_count": null,
   "metadata": {},
   "outputs": [],
   "source": [
    "a5b5_g2_11_sslr_4[2].mean()"
   ]
  },
  {
   "cell_type": "code",
   "execution_count": null,
   "metadata": {},
   "outputs": [],
   "source": [
    "my_kde_joint_plot(*a5b5_g2_11_sslr_4,'Cross_stitch model with DTP\\n' + r'$\\alpha$=0.5 $\\beta$=0.5 $\\gamma$ 2 -1 1 lr=1e-6',\n",
    "                  r2='%.3f'%a5b5_g2_11_sslr_r2,xlim=(0.7,10.3),ylim=(0.7,10.3))"
   ]
  },
  {
   "cell_type": "markdown",
   "metadata": {},
   "source": [
    "#### load form csv"
   ]
  },
  {
   "cell_type": "code",
   "execution_count": null,
   "metadata": {},
   "outputs": [],
   "source": [
    "a5b5_g2_11_csv = pd.read_csv('some_plot/a5b5_g2_11_result.csv')"
   ]
  },
  {
   "cell_type": "code",
   "execution_count": null,
   "metadata": {},
   "outputs": [],
   "source": [
    "a5b5_g2_11_csv.head(5)"
   ]
  },
  {
   "cell_type": "markdown",
   "metadata": {},
   "source": [
    "## backbone model "
   ]
  },
  {
   "cell_type": "markdown",
   "metadata": {},
   "source": [
    "#### `RL_test`"
   ]
  },
  {
   "cell_type": "code",
   "execution_count": null,
   "metadata": {},
   "outputs": [],
   "source": [
    "# backbone_RL_test = A_MTL.save_result_to_csv(y_true_ls,y_true_ay,y_pred_ay,save_path='some_plot/backbone_RL_test_result.csv',motif_detection=False)\n",
    "\n",
    "backbone_RL_test = pd.read_csv(\"some_plot/backbone_RL_test_result.csv\")\n",
    "\n",
    "uAUG_tre,uAUG_pred,nAUG_tre,nAUG_pred = A_MTL.get_4_types_data_from_csv(backbone_RL_test)\n",
    "\n",
    "backbone_RL_test_r2 = A_MTL.compute_r2(y_true_f,y_pred_f)\n"
   ]
  },
  {
   "cell_type": "code",
   "execution_count": null,
   "metadata": {},
   "outputs": [],
   "source": [
    "my_kde_joint_plot(uAUG_tre,uAUG_pred,nAUG_tre,nAUG_pred,'Backbone Model')"
   ]
  },
  {
   "cell_type": "markdown",
   "metadata": {},
   "source": [
    "#### L_regressor_MTL/test_run"
   ]
  },
  {
   "cell_type": "code",
   "execution_count": null,
   "metadata": {},
   "outputs": [],
   "source": [
    "RL_test_l1_10epoch = \"Project/UTR_VAE/log/Backbone/RL_regressor_MTL/test_run/RL_test_l1_10epoch.ini\"\n",
    "RL_test_l1 = \"Project/UTR_VAE/log/Backbone/RL_regressor_MTL/test_run/RL_test_l1.ini\"\n",
    "RL_test_sl1 = \"Project/UTR_VAE/log/Backbone/RL_regressor_MTL/test_run/RL_test_sl1.ini\""
   ]
  },
  {
   "cell_type": "code",
   "execution_count": null,
   "metadata": {},
   "outputs": [],
   "source": [
    "for config_f in [RL_test_l1_10epoch,RL_test_l1,RL_test_sl1]:\n",
    "    locals()[config_f.split('/')[-1].replace('.ini','_df')] = pipeline_for_RL_backbone(config_f)"
   ]
  },
  {
   "cell_type": "code",
   "execution_count": null,
   "metadata": {},
   "outputs": [],
   "source": [
    "0.83226\n",
    "0.83226\n",
    "0.83226"
   ]
  },
  {
   "cell_type": "code",
   "execution_count": null,
   "metadata": {},
   "outputs": [],
   "source": [
    "RL_test_l1_10epoch_4 = A_MTL.get_4_types_data_from_csv(RL_test_l1_10epoch_df)\n",
    "RL_test_l1_4 = A_MTL.get_4_types_data_from_csv(RL_test_l1_df)\n",
    "RL_test_sl1_4 = A_MTL.get_4_types_data_from_csv(RL_test_sl1_df)"
   ]
  },
  {
   "cell_type": "code",
   "execution_count": null,
   "metadata": {},
   "outputs": [],
   "source": [
    "my_kde_joint_plot(*RL_test_l1_10epoch_4,'RL_test_l1_10epoch',r2=0.83226,xlim=(1,10),ylim=(1,10))\n",
    "my_kde_joint_plot(*RL_test_l1_4,'RL_test_l1',r2=0.83226,xlim=(1,10),ylim=(1,10))\n",
    "my_kde_joint_plot(*RL_test_sl1_4,'RL_test_sl1',r2=0.83226,xlim=(1,10),ylim=(1,10))"
   ]
  },
  {
   "cell_type": "markdown",
   "metadata": {},
   "source": [
    "### RL_regressor_MTL/vali_by_deepest"
   ]
  },
  {
   "cell_type": "code",
   "execution_count": null,
   "metadata": {},
   "outputs": [],
   "source": [
    "config_dir = \"/home/wergillius/Project/UTR_VAE/log/Backbone/RL_regressor_MTL/vali_by_deepest\""
   ]
  },
  {
   "cell_type": "code",
   "execution_count": null,
   "metadata": {},
   "outputs": [],
   "source": [
    "config_files = [os.path.join(config_dir,file) for file in os.listdir(config_dir) if file.split('.')[-1]=='ini']\n",
    "exp_name = [file.split('.ini')[0] for file in os.listdir(config_dir)  if '.ini' in file]"
   ]
  },
  {
   "cell_type": "code",
   "execution_count": null,
   "metadata": {},
   "outputs": [],
   "source": [
    "result_dir = \"/home/wergillius/Project/UTR_VAE/ipynb/some_plot/backbone/vali_by_deepest/\"\n",
    "exp_name = [file.split('.csv')[0] for file in os.listdir(result_dir)]\n",
    "df_ls = {}"
   ]
  },
  {
   "cell_type": "code",
   "execution_count": null,
   "metadata": {},
   "outputs": [],
   "source": [
    "exp_name"
   ]
  },
  {
   "cell_type": "code",
   "execution_count": null,
   "metadata": {},
   "outputs": [],
   "source": [
    "for csv in os.listdir(result_dir):\n",
    "    df_ls[csv.split('.csv')[0]] = pd.read_csv(os.path.join(result_dir,csv))"
   ]
  },
  {
   "cell_type": "code",
   "execution_count": null,
   "metadata": {},
   "outputs": [],
   "source": [
    "data_of_4_dict = {exp:A_MTL.get_4_types_data_from_csv(df_ls[exp]) for exp in exp_name}"
   ]
  },
  {
   "cell_type": "code",
   "execution_count": null,
   "metadata": {},
   "outputs": [],
   "source": [
    "for exp in exp_name:\n",
    "    my_kde_joint_plot(*data_of_4_dict[exp],exp,xlim=(0.7,10.3),ylim=(0.7,10.3))"
   ]
  },
  {
   "cell_type": "markdown",
   "metadata": {},
   "source": [
    "### RL_regressor_MTL/split_two_csv"
   ]
  },
  {
   "cell_type": "code",
   "execution_count": null,
   "metadata": {},
   "outputs": [],
   "source": [
    "config_dir = \"/home/wergillius/Project/UTR_VAE/log/Backbone/RL_regressor_MTL/human_vlength_dataset\""
   ]
  },
  {
   "cell_type": "code",
   "execution_count": null,
   "metadata": {},
   "outputs": [],
   "source": [
    "config_file = [os.path.join(config_dir,file) for file in os.listdir(config_dir) if '.ini' in file]\n",
    "exp_name = [file.split('.ini')[0] for file in os.listdir(config_dir) if '.ini' in file]"
   ]
  },
  {
   "cell_type": "code",
   "execution_count": null,
   "metadata": {},
   "outputs": [],
   "source": [
    "two_csv_dict = {}\n",
    "two_csv_r2_dict = {}\n",
    "for exp in exp_name:\n",
    "    two_csv_dict[exp],two_csv_r2_dict[exp] = pipeline_for_RL_backbone(os.path.join(config_dir,exp+'.ini'),cuda_id=1)"
   ]
  },
  {
   "cell_type": "code",
   "execution_count": null,
   "metadata": {},
   "outputs": [],
   "source": [
    "x = torch.randn((1,2)).cuda()"
   ]
  },
  {
   "cell_type": "markdown",
   "metadata": {},
   "source": [
    "map them back to 1-10"
   ]
  },
  {
   "cell_type": "code",
   "execution_count": null,
   "metadata": {},
   "outputs": [],
   "source": [
    "for exp in exp_name[1:]:\n",
    "    for Y in ['Y_true','Y_pred']:\n",
    "        two_csv_dict[exp].loc[:,Y] = scaler.inverse_transform(two_csv_dict[exp].loc[:,Y].values.reshape(-1,1))"
   ]
  },
  {
   "cell_type": "code",
   "execution_count": null,
   "metadata": {},
   "outputs": [],
   "source": [
    "# recalcualte the r2 on the original space\n",
    "for exp in exp_name[1:]:\n",
    "    two_csv_r2_dict[exp] = A_MTL.compute_r2(two_csv_dict[exp].Y_true.values,two_csv_dict[exp].Y_pred.values)"
   ]
  },
  {
   "cell_type": "markdown",
   "metadata": {},
   "source": [
    "extract uAUG_true uAUG_pred nAUG_true nAUG_pred.   \n",
    "\n",
    "and plot them"
   ]
  },
  {
   "cell_type": "code",
   "execution_count": null,
   "metadata": {},
   "outputs": [],
   "source": [
    "two_csv_4_dict = {exp:A_MTL.get_4_types_data_from_csv(two_csv_dict[exp]) for exp in exp_name}"
   ]
  },
  {
   "cell_type": "code",
   "execution_count": null,
   "metadata": {},
   "outputs": [],
   "source": [
    "for exp in exp_name:\n",
    "    A_MTL.my_kde_joint_plot(*two_csv_4_dict[exp],title=exp,r2=\"%.4f\"%two_csv_r2_dict[exp],text_posi=(7,2),xlim = (1.3,10),ylim = (1.3,10))"
   ]
  },
  {
   "cell_type": "markdown",
   "metadata": {},
   "source": [
    "### scaler to reverse the scaling"
   ]
  },
  {
   "cell_type": "code",
   "execution_count": null,
   "metadata": {},
   "outputs": [],
   "source": [
    "from sklearn import preprocessing"
   ]
  },
  {
   "cell_type": "code",
   "execution_count": null,
   "metadata": {},
   "outputs": [],
   "source": [
    "val_csv = pd.read_csv('/data/users/wergillius/UTR_VAE/multi_task/val_split_like_paper.csv')\n",
    "\n",
    "val_rl = val_csv.rl.values\n",
    "\n",
    "scaler = preprocessing.StandardScaler().fit(val_rl.reshape(-1,1))"
   ]
  },
  {
   "cell_type": "markdown",
   "metadata": {},
   "source": [
    "### RL_regressor_MTL/split_two_csv_deep"
   ]
  },
  {
   "cell_type": "code",
   "execution_count": null,
   "metadata": {},
   "outputs": [],
   "source": [
    "log_dir=\"/home/wergillius/Project/UTR_VAE/log/Backbone/RL_regressor_MTL/split_two_csv_deep\"\n",
    "exp_name = [file.split('.ini')[0] for file in os.listdir(log_dir) if '.ini' in file]"
   ]
  },
  {
   "cell_type": "code",
   "execution_count": null,
   "metadata": {},
   "outputs": [],
   "source": [
    "sptc_deep_dict = {}\n",
    "sptc_d_r2_dict = {}\n",
    "\n",
    "for exp in exp_name:\n",
    "    config = os.path.join(log_dir,exp+'.ini')\n",
    "    sptc_deep_dict[exp] , sptc_d_r2_dict[exp] = pipeline_for_RL_backbone(config)"
   ]
  },
  {
   "cell_type": "code",
   "execution_count": null,
   "metadata": {},
   "outputs": [],
   "source": [
    "scaled_exp = [exp for exp in exp_name if 'unscaled' not in exp]"
   ]
  },
  {
   "cell_type": "code",
   "execution_count": null,
   "metadata": {},
   "outputs": [],
   "source": [
    "scaled_exp"
   ]
  },
  {
   "cell_type": "markdown",
   "metadata": {},
   "source": [
    "map them back to 1-10"
   ]
  },
  {
   "cell_type": "code",
   "execution_count": null,
   "metadata": {},
   "outputs": [],
   "source": [
    "for exp in scaled_exp:\n",
    "    for Y in ['Y_true','Y_pred']:\n",
    "        sptc_deep_dict[exp].loc[:,Y] = scaler.inverse_transform(sptc_deep_dict[exp].loc[:,Y].values.reshape(-1,1))"
   ]
  },
  {
   "cell_type": "code",
   "execution_count": null,
   "metadata": {},
   "outputs": [],
   "source": [
    "# recalcualte the r2 on the original space\n",
    "for exp in scaled_exp:\n",
    "    sptc_d_r2_dict[exp] = A_MTL.compute_r2(sptc_deep_dict[exp].Y_true.values,sptc_deep_dict[exp].Y_pred.values)"
   ]
  },
  {
   "cell_type": "markdown",
   "metadata": {},
   "source": [
    "extract uAUG_true uAUG_pred nAUG_true nAUG_pred.   \n",
    "\n",
    "and plot them"
   ]
  },
  {
   "cell_type": "code",
   "execution_count": null,
   "metadata": {},
   "outputs": [],
   "source": [
    "sptc_d_4data_dict = {exp:A_MTL.get_4_types_data_from_csv(sptc_deep_dict[exp]) for exp in exp_name}"
   ]
  },
  {
   "cell_type": "code",
   "execution_count": null,
   "metadata": {},
   "outputs": [],
   "source": [
    "for exp in exp_name:\n",
    "    \n",
    "    text_posi=(7,2)\n",
    "    xlim = (1.3,10)\n",
    "    ylim = (1.3,10)\n",
    "    \n",
    "    A_MTL.my_kde_joint_plot(*sptc_d_4data_dict[exp],title=exp,r2=\"%.4f\"%sptc_d_r2_dict[exp],text_posi=text_posi,xlim=xlim,ylim=ylim)"
   ]
  },
  {
   "cell_type": "markdown",
   "metadata": {},
   "source": [
    "### human vlength dataset"
   ]
  },
  {
   "cell_type": "code",
   "execution_count": null,
   "metadata": {},
   "outputs": [],
   "source": [
    "config_dir=\"/home/wergillius/Project/UTR_VAE/log/Backbone/RL_regressor_MTL/human_vlength_dataset\""
   ]
  },
  {
   "cell_type": "code",
   "execution_count": null,
   "metadata": {},
   "outputs": [],
   "source": [
    "exp_name = [file.split('.ini')[0] for file in os.listdir(config_dir) if '.ini' in file]"
   ]
  },
  {
   "cell_type": "code",
   "execution_count": null,
   "metadata": {},
   "outputs": [],
   "source": [
    "# hv : human_vlength \n",
    "hv_df_dict = {}\n",
    "hv_r2_dict = {}\n",
    "\n",
    "for exp in exp_name:\n",
    "    # all experiments are trained with scaled data\n",
    "    hv_df_dict[exp],hv_r2_dict[exp] = pipeline_for_RL_backbone(os.path.join(config_dir,exp+'.ini'),cuda_id=0)"
   ]
  },
  {
   "cell_type": "code",
   "execution_count": null,
   "metadata": {},
   "outputs": [],
   "source": []
  },
  {
   "cell_type": "code",
   "execution_count": null,
   "metadata": {},
   "outputs": [],
   "source": [
    "for exp in exp_name:\n",
    "    for Y in ['Y_true','Y_pred']:\n",
    "        hv_df_dict[exp].loc[:,Y] = scaler.inverse_transform(hv_df_dict[exp].loc[:,Y].values.reshape(-1,1))"
   ]
  },
  {
   "cell_type": "code",
   "execution_count": null,
   "metadata": {},
   "outputs": [],
   "source": [
    "# recalcualte the r2 on the original space\n",
    "for exp in exp_name:\n",
    "    hv_r2_dict[exp] = A_MTL.compute_r2(hv_df_dict[exp].Y_true.values,hv_df_dict[exp].Y_pred.values)"
   ]
  },
  {
   "cell_type": "markdown",
   "metadata": {},
   "source": [
    "extract uAUG_true uAUG_pred nAUG_true nAUG_pred.   \n",
    "\n",
    "and plot them"
   ]
  },
  {
   "cell_type": "code",
   "execution_count": null,
   "metadata": {},
   "outputs": [],
   "source": [
    "sptc_d_4data_dict = {exp:A_MTL.get_4_types_data_from_csv(hv_df_dict[exp]) for exp in exp_name}"
   ]
  },
  {
   "cell_type": "code",
   "execution_count": null,
   "metadata": {},
   "outputs": [],
   "source": [
    "for exp in exp_name:\n",
    "    \n",
    "    text_posi=(7,2)\n",
    "    xlim = (1.3,10)\n",
    "    ylim = (1.3,10)\n",
    "    \n",
    "    A_MTL.my_kde_joint_plot(*sptc_d_4data_dict[exp],title=exp,r2=\"%.4f\"%hv_r2_dict[exp],text_posi=text_posi,xlim=xlim,ylim=ylim)"
   ]
  },
  {
   "cell_type": "markdown",
   "metadata": {},
   "source": [
    "## Baseline model"
   ]
  },
  {
   "cell_type": "markdown",
   "metadata": {},
   "source": [
    "### L_50"
   ]
  },
  {
   "cell_type": "code",
   "execution_count": null,
   "metadata": {},
   "outputs": [],
   "source": [
    "config_dir = '/home/wergillius/Project/UTR_VAE/log/Baseline/Baseline_MTL/L_50/'"
   ]
  },
  {
   "cell_type": "code",
   "execution_count": null,
   "metadata": {},
   "outputs": [],
   "source": [
    "exp_name = [file.split('.ini')[0] for file in os.listdir(config_dir) if '.ini' in file]"
   ]
  },
  {
   "cell_type": "code",
   "execution_count": null,
   "metadata": {},
   "outputs": [],
   "source": [
    "L50_df_dict ={}\n",
    "L50_r2_dict ={}\n",
    "for exp in exp_name:\n",
    "    L50_df_dict[exp],L50_r2_dict[exp] = pipeline_for_RL_backbone(os.path.join(config_dir,exp+'.ini'))"
   ]
  },
  {
   "cell_type": "code",
   "execution_count": null,
   "metadata": {},
   "outputs": [],
   "source": [
    "exp_name"
   ]
  },
  {
   "cell_type": "code",
   "execution_count": null,
   "metadata": {},
   "outputs": [],
   "source": [
    "for exp in exp_name:\n",
    "    for yy in ['Y_true','Y_pred']:\n",
    "        L50_df_dict[exp].loc[:,yy] = scaler.inverse_transform(L50_df_dict[exp].loc[:,yy].values.reshape(-1,1))\n",
    "    L50_r2_dict[exp] = A_MTL.compute_r2(L50_df_dict[exp].Y_true.values,L50_df_dict[exp].Y_pred.values)"
   ]
  },
  {
   "cell_type": "code",
   "execution_count": null,
   "metadata": {},
   "outputs": [],
   "source": [
    "L50_data4_dict = {exp:A_MTL.get_4_types_data_from_csv(L50_df_dict[exp]) for exp in exp_name}"
   ]
  },
  {
   "cell_type": "code",
   "execution_count": null,
   "metadata": {},
   "outputs": [],
   "source": [
    "for exp in exp_name:\n",
    "    A_MTL.my_kde_joint_plot(*L50_data4_dict[exp],r2='%.4f'%L50_r2_dict[exp],title=exp,xlim=(1,10),ylim=(0,9))"
   ]
  },
  {
   "cell_type": "markdown",
   "metadata": {},
   "source": [
    "### load exp `TO_SEQ_TE : reg_w05_05`"
   ]
  },
  {
   "cell_type": "markdown",
   "metadata": {},
   "source": [
    "#### from starch"
   ]
  },
  {
   "cell_type": "code",
   "execution_count": null,
   "metadata": {},
   "outputs": [],
   "source": [
    "# backbone_RL_test = A_MTL.save_result_to_csv(y_true_ls,y_true_ay,y_pred_ay,save_path='some_plot/backbone_RL_test_result.csv',motif_detection=False)\n",
    "\n",
    "backbone_RL_test = pd.read_csv(\"some_plot/backbone_RL_test_result.csv\")\n",
    "\n",
    "uAUG_tre,uAUG_pred,nAUG_tre,nAUG_pred = A_MTL.get_4_types_data_from_csv(backbone_RL_test)\n",
    "\n",
    "backbone_RL_test_r2 = A_MTL.compute_r2(y_true_f,y_pred_f)"
   ]
  },
  {
   "cell_type": "code",
   "execution_count": null,
   "metadata": {},
   "outputs": [],
   "source": [
    "model = baseline_out_dict['model']\n",
    "train_loader = baseline_out_dict['train_loader']\n",
    "val_loader = baseline_out_dict['val_loader']\n",
    "POPEN = baseline_out_dict['popen']"
   ]
  },
  {
   "cell_type": "code",
   "execution_count": null,
   "metadata": {},
   "outputs": [],
   "source": [
    "y_true_ls = []\n",
    "y_pred_ls = []\n",
    "recon_acc_ls=[]\n",
    "cuda_id = 2"
   ]
  },
  {
   "cell_type": "code",
   "execution_count": null,
   "metadata": {},
   "outputs": [],
   "source": [
    "with torch.no_grad():\n",
    "    for X,Y in tqdm(val_loader):\n",
    "        X = X.float().cuda(cuda_id)\n",
    "        y_true_ls.append(Y.cpu().numpy())\n",
    "        \n",
    "        y_pred = model(X)\n",
    "        \n",
    "        acc = compute_acc(X,y_pred[1])\n",
    "        \n",
    "        y_pred_ls.append(y_pred)\n",
    "        recon_acc_ls.append(acc)"
   ]
  },
  {
   "cell_type": "code",
   "execution_count": null,
   "metadata": {},
   "outputs": [],
   "source": [
    "recon_acc_ay = torch.stack(recon_acc_ls).flatten().detach().cpu().numpy()"
   ]
  },
  {
   "cell_type": "code",
   "execution_count": null,
   "metadata": {},
   "outputs": [],
   "source": [
    "# y_true_ls contain y_ture and motif annotation\n",
    "\n",
    "recon_acc_ay = torch.stack(recon_acc_ls)\n",
    "\n",
    "y_true_ay = np.stack([arry[:,0] for arry in y_true_ls])  \n",
    "y_pred_ay = np.stack([arry[2].detach().cpu().numpy() for arry in y_pred_ls]).squeeze()\n",
    "y_true_f = y_true_ay.flatten()\n",
    "y_pred_f = y_pred_ay.flatten()"
   ]
  },
  {
   "cell_type": "markdown",
   "metadata": {},
   "source": [
    "```python\n",
    "TO_SEQ_TE_reg = A_MTL.save_result_to_csv(y_true_ls,y_true_f,y_pred_f,save_path='some_plot/TO_SEQ_TE_reg_w05_05.csv',motif_detection=False)\n",
    "TO_SEQ_TE_reg.loc[:,'recon_acc'] = recon_acc_ay\n",
    "TO_SEQ_TE_reg.to_csv('some_plot/TO_SEQ_TE_reg_w05_05.csv',index=False)\n",
    "```"
   ]
  },
  {
   "cell_type": "code",
   "execution_count": null,
   "metadata": {},
   "outputs": [],
   "source": [
    "TO_SEQ_TE_reg= pd.read_csv('some_plot/TO_SEQ_TE_reg_w05_05.csv')"
   ]
  },
  {
   "cell_type": "markdown",
   "metadata": {},
   "source": [
    "#### resume\n",
    "<font size=5 color='darkred'>**start from here**"
   ]
  },
  {
   "cell_type": "code",
   "execution_count": null,
   "metadata": {},
   "outputs": [],
   "source": [
    "TO_SEQ_TE_reg = pd.read_csv('some_plot/TO_SEQ_TE_reg_w05_05.csv')\n",
    "\n",
    "TO_SEQ_TE_reg_4 = A_MTL.get_4_types_data_from_csv(TO_SEQ_TE_reg)\n",
    "\n",
    "TO_SEQ_TE_reg_r2 = A_MTL.compute_r2(y_true_f,y_pred_f)"
   ]
  },
  {
   "cell_type": "code",
   "execution_count": null,
   "metadata": {},
   "outputs": [],
   "source": [
    "print('toal r2 : ',TO_SEQ_TE_reg_r2)\n",
    "\n",
    "print('uAUG r2 : ',A_MTL.compute_r2(*TO_SEQ_TE_reg_4[:2]))\n",
    "\n",
    "print('nAUG r2 : ',A_MTL.compute_r2(*TO_SEQ_TE_reg_4[2:]))"
   ]
  },
  {
   "cell_type": "code",
   "execution_count": null,
   "metadata": {},
   "outputs": [],
   "source": [
    "my_kde_joint_plot(*TO_SEQ_TE_reg_4,'TO_SEQ_TE reg \\n weight 0.5 : 0.5',xlim=(-3.2,1.8),ylim=(-3.2,1.8))"
   ]
  },
  {
   "cell_type": "markdown",
   "metadata": {},
   "source": [
    "## plot reconstruction accuracy "
   ]
  },
  {
   "cell_type": "code",
   "execution_count": null,
   "metadata": {},
   "outputs": [],
   "source": [
    "recon_acc_of_4model = np.stack([TO_SEQ_TE_reg.recon_acc,gamma_b2_blr.recon_acc.values/1.01,a5b5_g2_11.recon_acc.values/1.01,a5b5_g2_11_sslr.recon_acc.values/1.01])"
   ]
  },
  {
   "cell_type": "code",
   "execution_count": null,
   "metadata": {},
   "outputs": [],
   "source": [
    "recon_acc_of_4model[:2].shape"
   ]
  },
  {
   "cell_type": "code",
   "execution_count": null,
   "metadata": {},
   "outputs": [],
   "source": [
    "plt.rcParams['font.weight'] = 'normal'\n",
    "plt.rcParams['axes.labelweight'] = 'normal'\n",
    "plt.rcParams['axes.labelpad'] = 5\n",
    "plt.rcParams['axes.linewidth']= 2\n",
    "plt.rcParams['xtick.labelsize']= 14\n",
    "plt.rcParams['ytick.labelsize']= 14\n",
    "plt.rcParams['xtick.major.size'] = 6\n",
    "plt.rcParams['ytick.major.size'] = 6\n",
    "plt.rcParams['xtick.minor.size'] = 3\n",
    "plt.rcParams['ytick.minor.size'] = 3\n",
    "plt.rcParams['xtick.minor.width'] = 1\n",
    "plt.rcParams['ytick.minor.width'] = 1\n",
    "plt.rcParams['xtick.major.width'] = 2\n",
    "plt.rcParams['ytick.major.width'] = 2\n",
    "plt.rcParams['xtick.color'] = 'black'\n",
    "plt.rcParams['ytick.color'] = 'black'\n",
    "plt.rcParams['axes.labelcolor'] = 'black'\n",
    "plt.rcParams['axes.edgecolor'] = 'black'\n"
   ]
  },
  {
   "cell_type": "code",
   "execution_count": null,
   "metadata": {},
   "outputs": [],
   "source": [
    "fig,ax=plt.subplots(figsize=(9,11))\n",
    "sns.boxplot(data=recon_acc_of_4model.T,palette='vlag',width=0.7,linewidth=3);\n",
    "ax.set_ylabel('Reconstruction Accuracy (%)',fontsize=20)\n",
    "ax.set_xticklabels(['Hard_share',r'DTP_$\\alpha 9 \\beta 1$',r'DTP_$\\alpha 5 \\beta 5$',r'DTP_$\\alpha 5 \\beta 5$_slr'],fontsize=19);"
   ]
  },
  {
   "cell_type": "code",
   "execution_count": null,
   "metadata": {},
   "outputs": [],
   "source": []
  },
  {
   "cell_type": "markdown",
   "metadata": {},
   "source": [
    "# check generation"
   ]
  },
  {
   "cell_type": "markdown",
   "metadata": {},
   "source": [
    "## \n",
    "<font color='navy' size=5>**visualize cross stitch unit**</font>"
   ]
  },
  {
   "cell_type": "markdown",
   "metadata": {},
   "source": [
    "### Motif detection"
   ]
  },
  {
   "cell_type": "code",
   "execution_count": null,
   "metadata": {},
   "outputs": [],
   "source": [
    "def cross_unit_plot(p,w):\n",
    "    plt.figure(figsize=(w,3))\n",
    "    plt.imshow(p,aspect='auto',cmap=cm.Greens);\n",
    "    plt.yticks([0,1,2],model.tasks);"
   ]
  },
  {
   "cell_type": "code",
   "execution_count": null,
   "metadata": {},
   "outputs": [],
   "source": [
    "Mo_param = []\n",
    "for stage in model.stage:\n",
    "    Mo_param.append(np.stack([next(model.cross_stitch_link[stage].param_dict['Motif'][task].parameters()).cpu().detach().numpy() for task in model.tasks]))"
   ]
  },
  {
   "cell_type": "code",
   "execution_count": null,
   "metadata": {},
   "outputs": [],
   "source": [
    "cross_unit_plot(Mo_param[0],6)\n",
    "\n",
    "cross_unit_plot(Mo_param[1],12)\n",
    "\n",
    "cross_unit_plot(Mo_param[2],24)\n",
    "\n",
    "cross_unit_plot(Mo_param[3],6)"
   ]
  },
  {
   "cell_type": "markdown",
   "metadata": {},
   "source": [
    "### RL regression"
   ]
  },
  {
   "cell_type": "code",
   "execution_count": null,
   "metadata": {},
   "outputs": [],
   "source": [
    "def cross_unit_plot(p,w):\n",
    "    plt.figure(figsize=(w,3))\n",
    "    plt.imshow(p,aspect='auto',cmap=cm.Oranges);\n",
    "    plt.yticks([0,1,2],model.tasks);"
   ]
  },
  {
   "cell_type": "code",
   "execution_count": null,
   "metadata": {},
   "outputs": [],
   "source": [
    "RL_param = []\n",
    "for stage in model.stage:\n",
    "    RL_param.append(np.stack([next(model.cross_stitch_link[stage].param_dict['RL'][task].parameters()).cpu().detach().numpy() for task in model.tasks]))"
   ]
  },
  {
   "cell_type": "code",
   "execution_count": null,
   "metadata": {},
   "outputs": [],
   "source": [
    "cross_unit_plot(RL_param[0],6)\n",
    "\n",
    "cross_unit_plot(RL_param[1],12)\n",
    "\n",
    "cross_unit_plot(RL_param[2],24)\n",
    "\n",
    "cross_unit_plot(RL_param[3],6)"
   ]
  },
  {
   "cell_type": "markdown",
   "metadata": {},
   "source": [
    "### Recons"
   ]
  },
  {
   "cell_type": "code",
   "execution_count": null,
   "metadata": {},
   "outputs": [],
   "source": [
    "def cross_unit_plot(p,w):\n",
    "    plt.figure(figsize=(w,3))\n",
    "    plt.imshow(p,aspect='auto',cmap=cm.Blues);\n",
    "    plt.yticks([0,1,2],model.tasks);"
   ]
  },
  {
   "cell_type": "code",
   "execution_count": null,
   "metadata": {},
   "outputs": [],
   "source": [
    "Recons_param = []\n",
    "for stage in model.stage:\n",
    "    Recons_param.append(np.stack([next(model.cross_stitch_link[stage].param_dict['Recons'][task].parameters()).cpu().detach().numpy() for task in model.tasks]))"
   ]
  },
  {
   "cell_type": "code",
   "execution_count": null,
   "metadata": {},
   "outputs": [],
   "source": [
    "cross_unit_plot(Recons_param[0],6)\n",
    "\n",
    "cross_unit_plot(Recons_param[1],12)\n",
    "\n",
    "cross_unit_plot(Recons_param[2],24)\n",
    "\n",
    "cross_unit_plot(Recons_param[3],6)"
   ]
  },
  {
   "cell_type": "code",
   "execution_count": null,
   "metadata": {},
   "outputs": [],
   "source": []
  },
  {
   "cell_type": "code",
   "execution_count": null,
   "metadata": {},
   "outputs": [],
   "source": [
    "test_xx = torch.rand((1,2,1)).cuda(3)"
   ]
  },
  {
   "cell_type": "code",
   "execution_count": null,
   "metadata": {},
   "outputs": [],
   "source": [
    "torch.cuda.empty_cache()"
   ]
  },
  {
   "cell_type": "markdown",
   "metadata": {},
   "source": [
    "## \n",
    "<font color='darkgreen' size=5>**get the code from soft share**</font>"
   ]
  },
  {
   "cell_type": "code",
   "execution_count": null,
   "metadata": {},
   "outputs": [],
   "source": [
    "train_iter = iter(train_loader)"
   ]
  },
  {
   "cell_type": "code",
   "execution_count": null,
   "metadata": {},
   "outputs": [],
   "source": [
    "RL = Y[:,0]"
   ]
  },
  {
   "cell_type": "code",
   "execution_count": null,
   "metadata": {},
   "outputs": [],
   "source": [
    "sns.kdeplot(RL.numpy(),linewidth=4);"
   ]
  },
  {
   "cell_type": "markdown",
   "metadata": {},
   "source": [
    "<font color='Orange' size=5>***encode***"
   ]
  },
  {
   "cell_type": "code",
   "execution_count": null,
   "metadata": {},
   "outputs": [],
   "source": [
    "X_ls = []\n",
    "taskfeature_ls  = []\n",
    "Y_ls = []\n",
    "cuda_id=2"
   ]
  },
  {
   "cell_type": "code",
   "execution_count": null,
   "metadata": {},
   "outputs": [],
   "source": [
    "for i in range(20):\n",
    "    X,Y = next(train_iter)\n",
    "    X_ls.append(X.cpu().numpy())\n",
    "    Y_ls.append(Y.cpu().numpy())\n",
    "    X = X.float().cuda(cuda_id)\n",
    "    with torch.no_grad():\n",
    "        X = X.transpose(1,2) if X.shape[2] == 4 else X\n",
    "        task_feature = {t:X for t in model.tasks}\n",
    "        for stage in model.stage:\n",
    "            task_feature = model.forward_stage(task_feature,stage)\n",
    "        taskfeature_ls.append(task_feature)\n",
    "        torch.cuda.empty_cache()"
   ]
  },
  {
   "cell_type": "code",
   "execution_count": null,
   "metadata": {},
   "outputs": [],
   "source": [
    "RL_feature_ls = np.concatenate([feature['RL'].detach().cpu().numpy() for feature in taskfeature_ls],axis=0)\n",
    "RL_feature_f = RL_feature_ls.reshape(2000,-1)"
   ]
  },
  {
   "cell_type": "code",
   "execution_count": null,
   "metadata": {},
   "outputs": [],
   "source": [
    "rl_label_ls = np.concatenate([y[:,0] for y in Y_ls])"
   ]
  },
  {
   "cell_type": "code",
   "execution_count": null,
   "metadata": {},
   "outputs": [],
   "source": [
    "from sklearn.manifold import TSNE\n",
    "from sklearn.decomposition import PCA"
   ]
  },
  {
   "cell_type": "markdown",
   "metadata": {},
   "source": [
    "rl_pca = PCA(n_components=2)"
   ]
  },
  {
   "cell_type": "code",
   "execution_count": null,
   "metadata": {},
   "outputs": [],
   "source": [
    "rl_tsne = TSNE(n_components=2,perplexity=20,verbose=1)"
   ]
  },
  {
   "cell_type": "code",
   "execution_count": null,
   "metadata": {},
   "outputs": [],
   "source": [
    "RL_feature_tsne = rl_tsne.fit_transform(RL_feature_f)"
   ]
  },
  {
   "cell_type": "code",
   "execution_count": null,
   "metadata": {},
   "outputs": [],
   "source": [
    "np.quantile(rl_label_ls,[0.25,0.75])"
   ]
  },
  {
   "cell_type": "code",
   "execution_count": null,
   "metadata": {},
   "outputs": [],
   "source": [
    "np.quantile(rl_label_ls,[0.25,0.75])"
   ]
  },
  {
   "cell_type": "code",
   "execution_count": null,
   "metadata": {},
   "outputs": [],
   "source": [
    "plt.scatter(RL_feature_tsne[:,0],RL_feature_tsne[:,1],s=2,c=rl_label_ls);"
   ]
  },
  {
   "cell_type": "code",
   "execution_count": null,
   "metadata": {},
   "outputs": [],
   "source": [
    "rl_pca = PCA(n_components=2)"
   ]
  },
  {
   "cell_type": "code",
   "execution_count": null,
   "metadata": {},
   "outputs": [],
   "source": [
    "RL_feature_pca = rl_pca.fit_transform(RL_feature_f)"
   ]
  },
  {
   "cell_type": "code",
   "execution_count": null,
   "metadata": {},
   "outputs": [],
   "source": [
    "rl_pca.fit(RL_feature_f)"
   ]
  },
  {
   "cell_type": "code",
   "execution_count": null,
   "metadata": {},
   "outputs": [],
   "source": [
    "print('hallo')"
   ]
  },
  {
   "cell_type": "code",
   "execution_count": null,
   "metadata": {},
   "outputs": [],
   "source": [
    "rl_pca.transform()"
   ]
  },
  {
   "cell_type": "code",
   "execution_count": null,
   "metadata": {},
   "outputs": [],
   "source": [
    "out,mu,sigma = model.backbone['Recons'].forward_tower(task_feature['Recons'])"
   ]
  }
 ],
 "metadata": {
  "kernelspec": {
   "display_name": "Python 3",
   "language": "python",
   "name": "python3"
  },
  "language_info": {
   "codemirror_mode": {
    "name": "ipython",
    "version": 3
   },
   "file_extension": ".py",
   "mimetype": "text/x-python",
   "name": "python",
   "nbconvert_exporter": "python",
   "pygments_lexer": "ipython3",
   "version": "3.8.5"
  },
  "toc-autonumbering": true,
  "toc-showcode": false,
  "toc-showmarkdowntxt": true,
  "toc-showtags": false
 },
 "nbformat": 4,
 "nbformat_minor": 4
}
