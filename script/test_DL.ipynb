{
 "cells": [
  {
   "cell_type": "markdown",
   "metadata": {},
   "source": [
    "# test DL models"
   ]
  },
  {
   "cell_type": "markdown",
   "metadata": {},
   "source": [
    "## so much import"
   ]
  },
  {
   "cell_type": "code",
   "execution_count": 1,
   "metadata": {},
   "outputs": [
    {
     "name": "stdout",
     "output_type": "stream",
     "text": [
      "/home/wergillius/Project/UTR_VAE\n"
     ]
    }
   ],
   "source": [
    "import os\n",
    "import sys\n",
    "import pandas as pd\n",
    "import numpy as np\n",
    "import re\n",
    "import PATH\n",
    "import torch\n",
    "from torch import nn\n",
    "from torch import optim\n",
    "from torch.utils.data import DataLoader,Dataset,random_split\n",
    "\n",
    "from matplotlib import pyplot as plt\n",
    "\n",
    "from models.popen import Auto_popen\n",
    "from models import ScheduleOptimizer\n",
    "from models.ScheduleOptimizer import ScheduledOptim \n",
    "from models.log_and_save import Log_parser,plot_a_exp_set\n",
    "from models import reader\n",
    "from models import DL_models\n",
    "from models import CNN_models\n",
    "\n",
    "from utils import Seq_one_hot,read_UTR_csv,read_label,resume"
   ]
  },
  {
   "cell_type": "code",
   "execution_count": 2,
   "metadata": {},
   "outputs": [],
   "source": [
    "from importlib import reload\n",
    "from models import popen"
   ]
  },
  {
   "cell_type": "code",
   "execution_count": 3,
   "metadata": {},
   "outputs": [],
   "source": [
    "import logging"
   ]
  },
  {
   "cell_type": "code",
   "execution_count": 248,
   "metadata": {},
   "outputs": [],
   "source": [
    "# define data\n",
    "dataset = reader.UTR_dataset(cell_line='A549')\n",
    "\n",
    "# train_loader,val_loader,test_loader = reader.get_splited_dataloader(dataset,\n",
    "#                                                                     ratio=[0.7,0.2,0.1],\n",
    "#                                                                     batch_size=10,\n",
    "#                                                                     num_workers=4)\n",
    "# train_loader,val_loader,test_loader = reader.get_mask_dataloader(20,4)\n",
    "train_loader,val_loader,test_loader = reader.get_mix_dataloader(200,4)\n",
    "val_iter=iter(val_loader)"
   ]
  },
  {
   "cell_type": "markdown",
   "metadata": {},
   "source": [
    "## the kernel shape"
   ]
  },
  {
   "cell_type": "code",
   "execution_count": 6,
   "metadata": {},
   "outputs": [],
   "source": [
    "from utils import cal_convTrans_shape , cal_conv_shape"
   ]
  },
  {
   "cell_type": "code",
   "execution_count": 7,
   "metadata": {},
   "outputs": [],
   "source": [
    "def cal_convTrans_shape(L_in,kernel_size,padding=0,stride=1,diliation=1,out_padding=0):\n",
    "    \"\"\"\n",
    "    For convolution Transpose 1D decoding , compute the final length\n",
    "    \"\"\"\n",
    "    L_out = (L_in -1 )*stride + diliation*(kernel_size -1 )+1-2*padding + out_padding \n",
    "    return L_out\n",
    "\n",
    "def cal_conv_shape(L_in,kernel_size,padding=0,diliation=1,stride=1):\n",
    "    \"\"\"\n",
    "    For convolution 1D encoding , compute the final length \n",
    "    \"\"\"\n",
    "    L_out = 1+ (L_in + 2*padding -diliation*(kernel_size-1) -1)/stride\n",
    "    return L_out"
   ]
  },
  {
   "cell_type": "code",
   "execution_count": 8,
   "metadata": {},
   "outputs": [
    {
     "ename": "SyntaxError",
     "evalue": "invalid syntax (<ipython-input-8-4358891bcd7c>, line 1)",
     "output_type": "error",
     "traceback": [
      "\u001b[0;36m  File \u001b[0;32m\"<ipython-input-8-4358891bcd7c>\"\u001b[0;36m, line \u001b[0;32m1\u001b[0m\n\u001b[0;31m    Conv_block = lambda in_chan,out_chan : nn.Sequential(nn.Conv1d(in_chan,out_chan,kernel_size=3,stride=2,padding=))\u001b[0m\n\u001b[0m                                                                                                                   ^\u001b[0m\n\u001b[0;31mSyntaxError\u001b[0m\u001b[0;31m:\u001b[0m invalid syntax\n"
     ]
    }
   ],
   "source": [
    "Conv_block = lambda in_chan,out_chan : nn.Sequential(nn.Conv1d(in_chan,out_chan,kernel_size=3,stride=2,padding=))"
   ]
  },
  {
   "cell_type": "code",
   "execution_count": 9,
   "metadata": {},
   "outputs": [
    {
     "data": {
      "text/plain": [
       "98.0"
      ]
     },
     "execution_count": 9,
     "metadata": {},
     "output_type": "execute_result"
    }
   ],
   "source": [
    "cal_conv_shape(100,3)"
   ]
  },
  {
   "cell_type": "code",
   "execution_count": 12,
   "metadata": {},
   "outputs": [
    {
     "name": "stdout",
     "output_type": "stream",
     "text": [
      "50.0\n",
      "24.0\n",
      "12.0\n",
      "5.0\n"
     ]
    }
   ],
   "source": [
    "Chann = [4,16,32,64,128]\n",
    "pad_ls = [1,0,1,0]\n",
    "dialiation_ls = [1,1,1,1]\n",
    "L_in = 100\n",
    "for i in range(len(Chann)-1):\n",
    "    L_out = cal_conv_shape(L_in,4,stride=2,padding=pad_ls[i],diliation=dialiation_ls[i])\n",
    "    L_in = L_out\n",
    "    print(L_out)"
   ]
  },
  {
   "cell_type": "code",
   "execution_count": 13,
   "metadata": {},
   "outputs": [
    {
     "name": "stdout",
     "output_type": "stream",
     "text": [
      "8\n",
      "16\n",
      "34\n",
      "68\n"
     ]
    }
   ],
   "source": [
    "Chann = [4,16,32,64,128]\n",
    "pad_ls = [1,0,1,0]\n",
    "dialiation_ls = [1,1,1,1]\n",
    "L_in = 3\n",
    "for i in range(len(Chann)-1):\n",
    "    L_out = cal_convTrans_shape(L_in,4,stride=2,padding=pad_ls[::-1][i],out_padding=0,diliation=dialiation_ls[::-1][i])\n",
    "    L_in = L_out\n",
    "    print(L_out)"
   ]
  },
  {
   "cell_type": "code",
   "execution_count": 73,
   "metadata": {},
   "outputs": [],
   "source": [
    "Chann = [4,16,32,64,128]\n",
    "pad_ls = [1,0,1,0]\n",
    "Conv_sequence = nn.ModuleList(\n",
    "    [nn.Conv1d(Chann[i],Chann[i+1],4,stride=2,padding=pad_ls[i]) for i in range(len(Chann)-1)]\n",
    ")\n",
    "Deconv_sequqnce = nn.ModuleList(\n",
    "    [nn.ConvTranspose1d(Chann[::-1][i],Chann[::-1][i+1],4,stride=2,padding=pad_ls[::-1][i]) for i in range(len(Chann)-1)]\n",
    ")"
   ]
  },
  {
   "cell_type": "code",
   "execution_count": 74,
   "metadata": {},
   "outputs": [
    {
     "name": "stdout",
     "output_type": "stream",
     "text": [
      "start Conv\n",
      "torch.Size([10, 16, 50])\n",
      "torch.Size([10, 32, 24])\n",
      "torch.Size([10, 64, 12])\n",
      "torch.Size([10, 128, 5])\n"
     ]
    }
   ],
   "source": [
    "out = X_conv\n",
    "print(\"start Conv\")\n",
    "for model in Conv_sequence:\n",
    "    out = model(out)\n",
    "    print(out.shape)"
   ]
  },
  {
   "cell_type": "code",
   "execution_count": 75,
   "metadata": {},
   "outputs": [
    {
     "name": "stdout",
     "output_type": "stream",
     "text": [
      "start Deconv\n",
      "torch.Size([10, 64, 12])\n",
      "torch.Size([10, 32, 24])\n",
      "torch.Size([10, 16, 50])\n",
      "torch.Size([10, 4, 100])\n"
     ]
    }
   ],
   "source": [
    "print(\"start Deconv\")\n",
    "for model in Deconv_sequqnce:\n",
    "    out = model(out)\n",
    "    print(out.shape)"
   ]
  },
  {
   "cell_type": "code",
   "execution_count": 81,
   "metadata": {},
   "outputs": [],
   "source": [
    "from importlib import reload"
   ]
  },
  {
   "cell_type": "code",
   "execution_count": 90,
   "metadata": {},
   "outputs": [
    {
     "data": {
      "text/plain": [
       "<module 'models.CNN_models' from '/home/wergillius/Project/UTR_VAE/models/CNN_models.py'>"
      ]
     },
     "execution_count": 90,
     "metadata": {},
     "output_type": "execute_result"
    }
   ],
   "source": [
    "from models import CNN_models\n",
    "reload(CNN_models)"
   ]
  },
  {
   "cell_type": "code",
   "execution_count": 91,
   "metadata": {},
   "outputs": [],
   "source": [
    "model = CNN_models.Conv_AE(channel_ls=[4,16,32,64,128], padding_ls=[1,0,1,0])"
   ]
  },
  {
   "cell_type": "code",
   "execution_count": 94,
   "metadata": {},
   "outputs": [],
   "source": [
    "X = X.transpose(1,2)"
   ]
  },
  {
   "cell_type": "code",
   "execution_count": 95,
   "metadata": {},
   "outputs": [
    {
     "data": {
      "text/plain": [
       "torch.Size([10, 4, 100])"
      ]
     },
     "execution_count": 95,
     "metadata": {},
     "output_type": "execute_result"
    }
   ],
   "source": [
    "X.shape"
   ]
  },
  {
   "cell_type": "code",
   "execution_count": 96,
   "metadata": {},
   "outputs": [],
   "source": [
    "out = model(X)"
   ]
  },
  {
   "cell_type": "code",
   "execution_count": 97,
   "metadata": {},
   "outputs": [
    {
     "data": {
      "text/plain": [
       "torch.Size([10, 4, 100])"
      ]
     },
     "execution_count": 97,
     "metadata": {},
     "output_type": "execute_result"
    }
   ],
   "source": [
    "out.shape"
   ]
  },
  {
   "cell_type": "markdown",
   "metadata": {},
   "source": [
    "## compute acc function"
   ]
  },
  {
   "cell_type": "code",
   "execution_count": 4,
   "metadata": {},
   "outputs": [],
   "source": [
    "def compute_acc(X,out):\n",
    "    batch_size = X.shape       # B*100*4\n",
    "    true_max=torch.argmax(X,dim=2)\n",
    "\n",
    "    recon_max=torch.argmax(out,dim=2)\n",
    "\n",
    "    return torch.sum(true_max == recon_max).item() "
   ]
  },
  {
   "cell_type": "code",
   "execution_count": 5,
   "metadata": {},
   "outputs": [],
   "source": [
    "def reconstruct_seq(out_seq,X):\n",
    "    seq = torch.zeros_like(X)\n",
    "#     out_seq = torch.cat(out_seq,dim=1)\n",
    "    position = torch.argmax(out_seq,dim=2)     # X_reconst : b*100*4\n",
    "\n",
    "    for batch_idx in range(X.shape):\n",
    "        for i,j in enumerate(position[batch_idx]):\n",
    "            seq[batch_idx,i,j.item()] = 1     \n",
    "            \n",
    "    return torch.mean(X.mul(seq).sum(dim=2).sum(dim=1)) "
   ]
  },
  {
   "cell_type": "code",
   "execution_count": 175,
   "metadata": {},
   "outputs": [
    {
     "data": {
      "text/plain": [
       "torch.Size([10, 100, 4])"
      ]
     },
     "execution_count": 175,
     "metadata": {},
     "output_type": "execute_result"
    }
   ],
   "source": [
    "out_T = out.transpose(1,2)\n",
    "X_T = X.transpose(1,2)\n",
    "\n",
    "out_T.shape"
   ]
  },
  {
   "cell_type": "code",
   "execution_count": 143,
   "metadata": {},
   "outputs": [
    {
     "name": "stdout",
     "output_type": "stream",
     "text": [
      "519 µs ± 60.5 µs per loop (mean ± std. dev. of 7 runs, 1000 loops each)\n"
     ]
    }
   ],
   "source": [
    "%timeit compute_acc(X,out)"
   ]
  },
  {
   "cell_type": "code",
   "execution_count": 153,
   "metadata": {},
   "outputs": [
    {
     "name": "stdout",
     "output_type": "stream",
     "text": [
      "13.2 ms ± 1.55 ms per loop (mean ± std. dev. of 7 runs, 100 loops each)\n"
     ]
    }
   ],
   "source": [
    "%timeit reconstruct_seq(out_T,X_T)"
   ]
  },
  {
   "cell_type": "markdown",
   "metadata": {},
   "source": [
    "## plot result"
   ]
  },
  {
   "cell_type": "markdown",
   "metadata": {},
   "source": [
    "\n",
    "$$    \\ell(x, y) = L = \\{l_1,\\dots,l_N\\}^\\top, \\quad\n",
    "    l_n = \\left( x_n - y_n \\right)^2,$$\n",
    "\n",
    "where $N$ is the batch size. If :attr:`reduction` is not ``'none'``\n",
    "(default ``'mean'``), then:\n",
    "\n",
    "$$    \\ell(x, y) =\n",
    "    \\begin{cases}\n",
    "        \\operatorname{mean}(L), &  \\text{if reduction} = \\text{'mean';}\\\\\n",
    "        \\operatorname{sum}(L),  &  \\text{if reduction} = \\text{'sum'.}\n",
    "    \\end{cases}$$\n",
    "\n",
    ":$x$ and :$y$ are tensors of arbitrary shapes with a total\n",
    "of :$n$ elements each "
   ]
  },
  {
   "cell_type": "code",
   "execution_count": 136,
   "metadata": {},
   "outputs": [],
   "source": [
    "# Conv_popen = popen.Auto_popen(\"/home/wergillius/Project/UTR_VAE/log/Conv_AE_mask/setting1/mask_setting1.ini\")\n",
    "\n",
    "Conv_popen = popen.Auto_popen(\"/home/wergillius/Project/UTR_VAE/log/Conv_AE_mix/setting1/mix_test.ini\")\n",
    "logger = logging.getLogger(\"VAE\")\n",
    "Conv_popen.check_experiment(logger)"
   ]
  },
  {
   "cell_type": "code",
   "execution_count": 137,
   "metadata": {},
   "outputs": [
    {
     "data": {
      "text/plain": [
       "True"
      ]
     },
     "execution_count": 137,
     "metadata": {},
     "output_type": "execute_result"
    }
   ],
   "source": [
    "Conv_popen.Resumable"
   ]
  },
  {
   "cell_type": "code",
   "execution_count": 190,
   "metadata": {},
   "outputs": [
    {
     "data": {
      "text/plain": [
       "(571, 4.05402245069854, 60.48962563451777)"
      ]
     },
     "execution_count": 190,
     "metadata": {},
     "output_type": "execute_result"
    }
   ],
   "source": [
    "# read model\n",
    "model = CNN_models.Conv_AE(*Conv_popen.model_args)\n",
    "optimizer = eval(ScheduleOptimizer.scheduleoptim_text)\n",
    "resume(Conv_popen,model,optimizer,logger)"
   ]
  },
  {
   "cell_type": "code",
   "execution_count": 249,
   "metadata": {},
   "outputs": [],
   "source": [
    "# from train loader get some data\n",
    "batch_data = next(val_iter)\n",
    "\n",
    "X, y = batch_data\n",
    "X = X.float()\n",
    "y = y"
   ]
  },
  {
   "cell_type": "code",
   "execution_count": 250,
   "metadata": {},
   "outputs": [],
   "source": [
    "out=model(X,epoch=None,Y=y)\n",
    "\n",
    "re_X = model.reconstruct_seq(out,y)"
   ]
  },
  {
   "cell_type": "code",
   "execution_count": 252,
   "metadata": {},
   "outputs": [],
   "source": [
    "n_iter = (i for i in range(200))"
   ]
  },
  {
   "cell_type": "code",
   "execution_count": 220,
   "metadata": {},
   "outputs": [],
   "source": [
    "def visiualize_result(out,re_X,X,y):\n",
    "    fig=  plt.figure(figsize=(15,10))\n",
    "    \n",
    "    ax = fig.add_subplot(4,1,1)\n",
    "    ax.imshow(out.detach().numpy().T,aspect='auto')\n",
    "    ax.set_title(\"OUT\")\n",
    "    ax.axis(\"off\")\n",
    "\n",
    "    ax2 = fig.add_subplot(4,1,2)\n",
    "    ax2.imshow(re_X.detach().numpy().T,aspect='auto')\n",
    "    ax2.set_title(\"reconstruced\")\n",
    "    ax2.axis('off')\n",
    "\n",
    "    ax3 = fig.add_subplot(4,1,3)\n",
    "    ax3.imshow(X.detach().numpy().T,aspect='auto')\n",
    "    ax3.set_title(\"Masked X\")\n",
    "    ax3.axis('off')\n",
    "    if y is not None:\n",
    "        ax4 = fig.add_subplot(4,1,4)\n",
    "        ax4.imshow(y.detach().numpy().T,aspect='auto')\n",
    "        ax4.set_title(\"True\")\n",
    "        ax4.axis('off')"
   ]
  },
  {
   "cell_type": "code",
   "execution_count": 253,
   "metadata": {},
   "outputs": [
    {
     "data": {
      "text/plain": [
       "97.615"
      ]
     },
     "execution_count": 253,
     "metadata": {},
     "output_type": "execute_result"
    }
   ],
   "source": [
    "model.compute_acc(out,X,y)"
   ]
  },
  {
   "cell_type": "code",
   "execution_count": 254,
   "metadata": {},
   "outputs": [
    {
     "data": {
      "text/plain": [
       "tensor(2)"
      ]
     },
     "execution_count": 254,
     "metadata": {},
     "output_type": "execute_result"
    }
   ],
   "source": [
    "torch.argmax(torch.tensor([0,0,0]))"
   ]
  },
  {
   "cell_type": "code",
   "execution_count": 401,
   "metadata": {},
   "outputs": [
    {
     "name": "stdout",
     "output_type": "stream",
     "text": [
      "Accuracy 98.0 %\n",
      "i=146\n"
     ]
    },
    {
     "data": {
      "image/png": "[encoded data removed]",
      "text/plain": [
       "<Figure size 1080x720 with 4 Axes>"
      ]
     },
     "metadata": {
      "needs_background": "light"
     },
     "output_type": "display_data"
    },
    {
     "data": {
      "image/png": "[encoded data removed]",
      "text/plain": [
       "<Figure size 1080x180 with 1 Axes>"
      ]
     },
     "metadata": {
      "needs_background": "light"
     },
     "output_type": "display_data"
    }
   ],
   "source": [
    "i = next(n_iter)\n",
    "print(\"Accuracy {} %\".format(model.compute_acc(out[i].unsqueeze(dim=0),X[i].unsqueeze(dim=0),y[i].unsqueeze(dim=0))))\n",
    "print(\"i=%d\"%i)\n",
    "visiualize_result(out[i],re_X[i],X[i],y[i])\n",
    "\n",
    "fig=  plt.figure(figsize=(15,2.5))\n",
    "ax = fig.gca()\n",
    "ax.axis(\"off\")\n",
    "ax.imshow((re_X[i]-y[i]).detach().numpy().T,aspect='auto');\n",
    "ax.set_title(\"Error site\");"
   ]
  },
  {
   "cell_type": "code",
   "execution_count": 402,
   "metadata": {},
   "outputs": [
    {
     "data": {
      "text/plain": [
       "66.0"
      ]
     },
     "execution_count": 402,
     "metadata": {},
     "output_type": "execute_result"
    }
   ],
   "source": [
    "2*99/3"
   ]
  },
  {
   "cell_type": "code",
   "execution_count": null,
   "metadata": {},
   "outputs": [],
   "source": []
  },
  {
   "cell_type": "code",
   "execution_count": null,
   "metadata": {},
   "outputs": [],
   "source": []
  }
 ],
 "metadata": {
  "kernelspec": {
   "display_name": "Python 3",
   "language": "python",
   "name": "python3"
  },
  "language_info": {
   "codemirror_mode": {
    "name": "ipython",
    "version": 3
   },
   "file_extension": ".py",
   "mimetype": "text/x-python",
   "name": "python",
   "nbconvert_exporter": "python",
   "pygments_lexer": "ipython3",
   "version": "3.8.5"
  },
  "toc-autonumbering": false,
  "toc-showcode": false,
  "toc-showmarkdowntxt": true,
  "toc-showtags": false
 },
 "nbformat": 4,
 "nbformat_minor": 4
}
