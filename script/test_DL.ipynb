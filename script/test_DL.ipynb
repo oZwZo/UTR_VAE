{
 "cells": [
  {
   "cell_type": "markdown",
   "metadata": {},
   "source": [
    "# test DL models"
   ]
  },
  {
   "cell_type": "markdown",
   "metadata": {},
   "source": [
    "## so much import"
   ]
  },
  {
   "cell_type": "code",
   "execution_count": 1,
   "metadata": {},
   "outputs": [],
   "source": [
    "import os\n",
    "import sys\n",
    "import torch\n",
    "from torch import nn\n",
    "import numpy as np\n",
    "import pandas as pd\n",
    "import matplotlib.pyplot as plt\n",
    "from matplotlib import cm"
   ]
  },
  {
   "cell_type": "code",
   "execution_count": 106,
   "metadata": {},
   "outputs": [],
   "source": [
    "from importlib import reload"
   ]
  },
  {
   "cell_type": "code",
   "execution_count": 12,
   "metadata": {},
   "outputs": [
    {
     "name": "stdout",
     "output_type": "stream",
     "text": [
      "/home/wergillius/Project/UTR_VAE\n"
     ]
    }
   ],
   "source": [
    "top_path = os.path.dirname(os.path.abspath(\"./\"))\n",
    "sys.path.append(top_path)\n",
    "print(top_path)"
   ]
  },
  {
   "cell_type": "code",
   "execution_count": 108,
   "metadata": {},
   "outputs": [
    {
     "name": "stdout",
     "output_type": "stream",
     "text": [
      "/home/wergillius/Project/UTR_VAE\n"
     ]
    },
    {
     "data": {
      "text/plain": [
       "<module 'model.DL_models' from '/home/wergillius/Project/UTR_VAE/model/DL_models.py'>"
      ]
     },
     "execution_count": 108,
     "metadata": {},
     "output_type": "execute_result"
    }
   ],
   "source": [
    "import utils\n",
    "reload(utils)\n",
    "reload(DL_models)"
   ]
  },
  {
   "cell_type": "code",
   "execution_count": 21,
   "metadata": {},
   "outputs": [],
   "source": [
    "from model import DL_models\n",
    "from model import reader"
   ]
  },
  {
   "cell_type": "markdown",
   "metadata": {},
   "source": [
    "### read data"
   ]
  },
  {
   "cell_type": "code",
   "execution_count": 23,
   "metadata": {},
   "outputs": [],
   "source": [
    "# define data\n",
    "dataset = reader.UTR_dataset(cell_line='A549')\n",
    "\n",
    "train_loader,val_loader,test_loader = reader.get_splited_dataloader(dataset,\n",
    "                                                                    ratio=[0.7,0.2,0.1],\n",
    "                                                                    batch_size=10,\n",
    "                                                                    num_workers=4)"
   ]
  },
  {
   "cell_type": "code",
   "execution_count": 27,
   "metadata": {},
   "outputs": [],
   "source": [
    "train_iter=iter(train_loader)"
   ]
  },
  {
   "cell_type": "code",
   "execution_count": 101,
   "metadata": {},
   "outputs": [
    {
     "data": {
      "text/plain": [
       "10"
      ]
     },
     "execution_count": 101,
     "metadata": {},
     "output_type": "execute_result"
    }
   ],
   "source": [
    "train_loader.batch_size"
   ]
  },
  {
   "cell_type": "code",
   "execution_count": 102,
   "metadata": {},
   "outputs": [
    {
     "data": {
      "text/plain": [
       "278"
      ]
     },
     "execution_count": 102,
     "metadata": {},
     "output_type": "execute_result"
    }
   ],
   "source": [
    "len(train_loader)"
   ]
  },
  {
   "cell_type": "code",
   "execution_count": 28,
   "metadata": {},
   "outputs": [],
   "source": [
    "# from train loader get some data\n",
    "batch_data = next(train_iter)\n",
    "\n",
    "X, y = batch_data\n",
    "X = X.float()\n",
    "y = y.long()"
   ]
  },
  {
   "cell_type": "code",
   "execution_count": 29,
   "metadata": {},
   "outputs": [
    {
     "data": {
      "text/plain": [
       "(torch.Size([10, 100, 4]), torch.Size([10]))"
      ]
     },
     "execution_count": 29,
     "metadata": {},
     "output_type": "execute_result"
    }
   ],
   "source": [
    "X.shape , y.shape"
   ]
  },
  {
   "cell_type": "markdown",
   "metadata": {},
   "source": [
    "## Test DL models"
   ]
  },
  {
   "cell_type": "code",
   "execution_count": 32,
   "metadata": {},
   "outputs": [],
   "source": [
    "# define some parameters for LSTM\n",
    "\n",
    "laten_dim = 32\n",
    "hidden_size = 8\n",
    "out_dim = 2*hidden_size*X.shape[1]"
   ]
  },
  {
   "cell_type": "code",
   "execution_count": 31,
   "metadata": {},
   "outputs": [],
   "source": [
    "L_encoder = DL_models.LSTM_backbond(input_size=4,\n",
    "                                    hidden_size=8,\n",
    "                                    num_layers=3,\n",
    "                                    bidirectional=True)"
   ]
  },
  {
   "cell_type": "code",
   "execution_count": 34,
   "metadata": {},
   "outputs": [],
   "source": [
    "L_decoder = DL_models.LSTM_backbond(input_size=laten_dim,\n",
    "                                    hidden_size=4,\n",
    "                                    num_layers=3,\n",
    "                                    bidirectional=False)"
   ]
  },
  {
   "cell_type": "code",
   "execution_count": 35,
   "metadata": {},
   "outputs": [],
   "source": [
    "model = DL_models.VAE(L_encoder,L_decoder,latent_dim=laten_dim,out_dim=out_dim)"
   ]
  },
  {
   "cell_type": "code",
   "execution_count": 36,
   "metadata": {},
   "outputs": [
    {
     "ename": "TypeError",
     "evalue": "can't multiply sequence by non-int of type 'float'",
     "output_type": "error",
     "traceback": [
      "\u001b[0;31m---------------------------------------------------------------------------\u001b[0m",
      "\u001b[0;31mTypeError\u001b[0m                                 Traceback (most recent call last)",
      "\u001b[0;32m<ipython-input-36-94835c55739a>\u001b[0m in \u001b[0;36m<module>\u001b[0;34m\u001b[0m\n\u001b[0;32m----> 1\u001b[0;31m \u001b[0mone_repeat_out\u001b[0m \u001b[0;34m=\u001b[0m \u001b[0mmodel\u001b[0m\u001b[0;34m(\u001b[0m\u001b[0mX\u001b[0m\u001b[0;34m)\u001b[0m\u001b[0;34m\u001b[0m\u001b[0;34m\u001b[0m\u001b[0m\n\u001b[0m",
      "\u001b[0;32m~/.conda/envs/pytorch/lib/python3.8/site-packages/torch/nn/modules/module.py\u001b[0m in \u001b[0;36m_call_impl\u001b[0;34m(self, *input, **kwargs)\u001b[0m\n\u001b[1;32m    720\u001b[0m             \u001b[0mresult\u001b[0m \u001b[0;34m=\u001b[0m \u001b[0mself\u001b[0m\u001b[0;34m.\u001b[0m\u001b[0m_slow_forward\u001b[0m\u001b[0;34m(\u001b[0m\u001b[0;34m*\u001b[0m\u001b[0minput\u001b[0m\u001b[0;34m,\u001b[0m \u001b[0;34m**\u001b[0m\u001b[0mkwargs\u001b[0m\u001b[0;34m)\u001b[0m\u001b[0;34m\u001b[0m\u001b[0;34m\u001b[0m\u001b[0m\n\u001b[1;32m    721\u001b[0m         \u001b[0;32melse\u001b[0m\u001b[0;34m:\u001b[0m\u001b[0;34m\u001b[0m\u001b[0;34m\u001b[0m\u001b[0m\n\u001b[0;32m--> 722\u001b[0;31m             \u001b[0mresult\u001b[0m \u001b[0;34m=\u001b[0m \u001b[0mself\u001b[0m\u001b[0;34m.\u001b[0m\u001b[0mforward\u001b[0m\u001b[0;34m(\u001b[0m\u001b[0;34m*\u001b[0m\u001b[0minput\u001b[0m\u001b[0;34m,\u001b[0m \u001b[0;34m**\u001b[0m\u001b[0mkwargs\u001b[0m\u001b[0;34m)\u001b[0m\u001b[0;34m\u001b[0m\u001b[0;34m\u001b[0m\u001b[0m\n\u001b[0m\u001b[1;32m    723\u001b[0m         for hook in itertools.chain(\n\u001b[1;32m    724\u001b[0m                 \u001b[0m_global_forward_hooks\u001b[0m\u001b[0;34m.\u001b[0m\u001b[0mvalues\u001b[0m\u001b[0;34m(\u001b[0m\u001b[0;34m)\u001b[0m\u001b[0;34m,\u001b[0m\u001b[0;34m\u001b[0m\u001b[0;34m\u001b[0m\u001b[0m\n",
      "\u001b[0;32m~/Project/UTR_VAE/model/DL_models.py\u001b[0m in \u001b[0;36mforward\u001b[0;34m(self, X)\u001b[0m\n\u001b[1;32m    128\u001b[0m     \u001b[0;32mdef\u001b[0m \u001b[0mforward\u001b[0m\u001b[0;34m(\u001b[0m\u001b[0mself\u001b[0m\u001b[0;34m,\u001b[0m\u001b[0mX\u001b[0m\u001b[0;34m)\u001b[0m\u001b[0;34m:\u001b[0m\u001b[0;34m\u001b[0m\u001b[0;34m\u001b[0m\u001b[0m\n\u001b[1;32m    129\u001b[0m         \u001b[0mmu\u001b[0m\u001b[0;34m,\u001b[0m\u001b[0msigma\u001b[0m \u001b[0;34m=\u001b[0m \u001b[0mself\u001b[0m\u001b[0;34m.\u001b[0m\u001b[0mencoder\u001b[0m\u001b[0;34m(\u001b[0m\u001b[0mX\u001b[0m\u001b[0;34m)\u001b[0m\u001b[0;34m\u001b[0m\u001b[0;34m\u001b[0m\u001b[0m\n\u001b[0;32m--> 130\u001b[0;31m         \u001b[0mZ\u001b[0m \u001b[0;34m=\u001b[0m \u001b[0mself\u001b[0m\u001b[0;34m.\u001b[0m\u001b[0mreparameterize\u001b[0m\u001b[0;34m(\u001b[0m\u001b[0mmu\u001b[0m\u001b[0;34m,\u001b[0m\u001b[0msigma\u001b[0m\u001b[0;34m)\u001b[0m\u001b[0;34m\u001b[0m\u001b[0;34m\u001b[0m\u001b[0m\n\u001b[0m\u001b[1;32m    131\u001b[0m         \u001b[0mX_reconst\u001b[0m \u001b[0;34m=\u001b[0m \u001b[0mself\u001b[0m\u001b[0;34m.\u001b[0m\u001b[0mdecoder\u001b[0m\u001b[0;34m(\u001b[0m\u001b[0mZ\u001b[0m\u001b[0;34m)\u001b[0m\u001b[0;34m\u001b[0m\u001b[0;34m\u001b[0m\u001b[0m\n\u001b[1;32m    132\u001b[0m         \u001b[0;32mreturn\u001b[0m \u001b[0mX_reconst\u001b[0m\u001b[0;34m,\u001b[0m \u001b[0mmu\u001b[0m\u001b[0;34m,\u001b[0m\u001b[0msigma\u001b[0m\u001b[0;34m\u001b[0m\u001b[0;34m\u001b[0m\u001b[0m\n",
      "\u001b[0;32m~/Project/UTR_VAE/model/DL_models.py\u001b[0m in \u001b[0;36mreparameterize\u001b[0;34m(self, mu, sigma)\u001b[0m\n\u001b[1;32m    122\u001b[0m         \u001b[0;34m:\u001b[0m\u001b[0;32mreturn\u001b[0m\u001b[0;34m:\u001b[0m \u001b[0;34m(\u001b[0m\u001b[0mtorch\u001b[0m\u001b[0;34m.\u001b[0m\u001b[0mTensor\u001b[0m\u001b[0;34m)\u001b[0m \u001b[0;34m[\u001b[0m\u001b[0mB\u001b[0m \u001b[0mx\u001b[0m \u001b[0mD\u001b[0m\u001b[0;34m]\u001b[0m\u001b[0;34m\u001b[0m\u001b[0;34m\u001b[0m\u001b[0m\n\u001b[1;32m    123\u001b[0m         \"\"\"\n\u001b[0;32m--> 124\u001b[0;31m         \u001b[0mstd\u001b[0m \u001b[0;34m=\u001b[0m \u001b[0mtorch\u001b[0m\u001b[0;34m.\u001b[0m\u001b[0mexp\u001b[0m\u001b[0;34m(\u001b[0m\u001b[0;36m0.5\u001b[0m \u001b[0;34m*\u001b[0m \u001b[0msigma\u001b[0m\u001b[0;34m)\u001b[0m\u001b[0;34m\u001b[0m\u001b[0;34m\u001b[0m\u001b[0m\n\u001b[0m\u001b[1;32m    125\u001b[0m         \u001b[0meps\u001b[0m \u001b[0;34m=\u001b[0m \u001b[0mtorch\u001b[0m\u001b[0;34m.\u001b[0m\u001b[0mrandn_like\u001b[0m\u001b[0;34m(\u001b[0m\u001b[0mstd\u001b[0m\u001b[0;34m)\u001b[0m\u001b[0;34m\u001b[0m\u001b[0;34m\u001b[0m\u001b[0m\n\u001b[1;32m    126\u001b[0m         \u001b[0;32mreturn\u001b[0m \u001b[0meps\u001b[0m \u001b[0;34m*\u001b[0m \u001b[0mstd\u001b[0m \u001b[0;34m+\u001b[0m \u001b[0mmu\u001b[0m\u001b[0;34m\u001b[0m\u001b[0;34m\u001b[0m\u001b[0m\n",
      "\u001b[0;31mTypeError\u001b[0m: can't multiply sequence by non-int of type 'float'"
     ]
    }
   ],
   "source": [
    "one_repeat_out = model(X)"
   ]
  },
  {
   "cell_type": "code",
   "execution_count": 41,
   "metadata": {},
   "outputs": [],
   "source": [
    "X = torch.randint(10,(20,100,4))"
   ]
  },
  {
   "cell_type": "code",
   "execution_count": 68,
   "metadata": {},
   "outputs": [],
   "source": [
    "max_num = X.max(dim=2)"
   ]
  },
  {
   "cell_type": "code",
   "execution_count": null,
   "metadata": {},
   "outputs": [],
   "source": [
    "torch.broadcast_tensors()"
   ]
  },
  {
   "cell_type": "code",
   "execution_count": 76,
   "metadata": {},
   "outputs": [
    {
     "data": {
      "text/plain": [
       "torch.return_types.max(\n",
       "values=tensor([[6, 7, 4,  ..., 8, 7, 9],\n",
       "        [5, 7, 9,  ..., 8, 9, 5],\n",
       "        [6, 8, 7,  ..., 5, 9, 8],\n",
       "        ...,\n",
       "        [9, 6, 5,  ..., 8, 9, 5],\n",
       "        [5, 9, 7,  ..., 8, 6, 9],\n",
       "        [9, 8, 5,  ..., 7, 9, 4]]),\n",
       "indices=tensor([[0, 2, 3,  ..., 0, 0, 1],\n",
       "        [2, 2, 2,  ..., 3, 3, 1],\n",
       "        [0, 0, 2,  ..., 0, 0, 0],\n",
       "        ...,\n",
       "        [0, 2, 1,  ..., 0, 3, 0],\n",
       "        [2, 1, 0,  ..., 0, 1, 1],\n",
       "        [2, 0, 2,  ..., 1, 2, 2]]))"
      ]
     },
     "execution_count": 76,
     "metadata": {},
     "output_type": "execute_result"
    }
   ],
   "source": [
    "max_num."
   ]
  },
  {
   "cell_type": "code",
   "execution_count": 72,
   "metadata": {},
   "outputs": [
    {
     "ename": "RuntimeError",
     "evalue": "The size of tensor a (4) must match the size of tensor b (100) at non-singleton dimension 2",
     "output_type": "error",
     "traceback": [
      "\u001b[0;31m---------------------------------------------------------------------------\u001b[0m",
      "\u001b[0;31mRuntimeError\u001b[0m                              Traceback (most recent call last)",
      "\u001b[0;32m<ipython-input-72-0f4cbef419ee>\u001b[0m in \u001b[0;36m<module>\u001b[0;34m\u001b[0m\n\u001b[0;32m----> 1\u001b[0;31m \u001b[0mX\u001b[0m \u001b[0;34m==\u001b[0m \u001b[0mmax_num\u001b[0m\u001b[0;34m[\u001b[0m\u001b[0;36m0\u001b[0m\u001b[0;34m]\u001b[0m\u001b[0;34m\u001b[0m\u001b[0;34m\u001b[0m\u001b[0m\n\u001b[0m",
      "\u001b[0;32m~/.conda/envs/pytorch/lib/python3.8/site-packages/torch/tensor.py\u001b[0m in \u001b[0;36mwrapped\u001b[0;34m(*args, **kwargs)\u001b[0m\n\u001b[1;32m     20\u001b[0m     \u001b[0;32mdef\u001b[0m \u001b[0mwrapped\u001b[0m\u001b[0;34m(\u001b[0m\u001b[0;34m*\u001b[0m\u001b[0margs\u001b[0m\u001b[0;34m,\u001b[0m \u001b[0;34m**\u001b[0m\u001b[0mkwargs\u001b[0m\u001b[0;34m)\u001b[0m\u001b[0;34m:\u001b[0m\u001b[0;34m\u001b[0m\u001b[0;34m\u001b[0m\u001b[0m\n\u001b[1;32m     21\u001b[0m         \u001b[0;32mtry\u001b[0m\u001b[0;34m:\u001b[0m\u001b[0;34m\u001b[0m\u001b[0;34m\u001b[0m\u001b[0m\n\u001b[0;32m---> 22\u001b[0;31m             \u001b[0;32mreturn\u001b[0m \u001b[0mf\u001b[0m\u001b[0;34m(\u001b[0m\u001b[0;34m*\u001b[0m\u001b[0margs\u001b[0m\u001b[0;34m,\u001b[0m \u001b[0;34m**\u001b[0m\u001b[0mkwargs\u001b[0m\u001b[0;34m)\u001b[0m\u001b[0;34m\u001b[0m\u001b[0;34m\u001b[0m\u001b[0m\n\u001b[0m\u001b[1;32m     23\u001b[0m         \u001b[0;32mexcept\u001b[0m \u001b[0mTypeError\u001b[0m\u001b[0;34m:\u001b[0m\u001b[0;34m\u001b[0m\u001b[0;34m\u001b[0m\u001b[0m\n\u001b[1;32m     24\u001b[0m             \u001b[0;32mreturn\u001b[0m \u001b[0mNotImplemented\u001b[0m\u001b[0;34m\u001b[0m\u001b[0;34m\u001b[0m\u001b[0m\n",
      "\u001b[0;31mRuntimeError\u001b[0m: The size of tensor a (4) must match the size of tensor b (100) at non-singleton dimension 2"
     ]
    }
   ],
   "source": [
    "X == max_num[0]"
   ]
  },
  {
   "cell_type": "code",
   "execution_count": 47,
   "metadata": {},
   "outputs": [],
   "source": [
    "position = X.argmax(dim=2)"
   ]
  },
  {
   "cell_type": "code",
   "execution_count": 61,
   "metadata": {},
   "outputs": [],
   "source": [
    "seq = torch.zeros_like(X)"
   ]
  },
  {
   "cell_type": "code",
   "execution_count": 80,
   "metadata": {},
   "outputs": [],
   "source": [
    "for batch in range(X.shape[0]):\n",
    "    for i,j in enumerate(position[batch]):\n",
    "        X[batch,i,j.item()] = 1"
   ]
  },
  {
   "cell_type": "code",
   "execution_count": 81,
   "metadata": {},
   "outputs": [
    {
     "data": {
      "text/plain": [
       "tensor([[1, 2, 0, 2],\n",
       "        [0, 4, 1, 1],\n",
       "        [3, 2, 1, 1],\n",
       "        [1, 6, 4, 6],\n",
       "        [0, 3, 5, 1],\n",
       "        [1, 4, 5, 7],\n",
       "        [5, 6, 1, 4],\n",
       "        [5, 4, 6, 1],\n",
       "        [0, 2, 3, 1],\n",
       "        [1, 5, 6, 6]])"
      ]
     },
     "execution_count": 81,
     "metadata": {},
     "output_type": "execute_result"
    }
   ],
   "source": [
    "X[0,:10,:]"
   ]
  },
  {
   "cell_type": "code",
   "execution_count": 84,
   "metadata": {},
   "outputs": [],
   "source": [
    "seq2 = seq.clone()"
   ]
  },
  {
   "cell_type": "code",
   "execution_count": 67,
   "metadata": {},
   "outputs": [
    {
     "data": {
      "text/plain": [
       "tensor([[1, 0, 0, 0],\n",
       "        [0, 0, 1, 0],\n",
       "        [0, 0, 0, 1],\n",
       "        [1, 0, 0, 0],\n",
       "        [0, 0, 0, 1],\n",
       "        [1, 0, 0, 0],\n",
       "        [0, 0, 1, 0],\n",
       "        [0, 0, 0, 1],\n",
       "        [0, 0, 0, 1],\n",
       "        [1, 0, 0, 0]])"
      ]
     },
     "execution_count": 67,
     "metadata": {},
     "output_type": "execute_result"
    }
   ],
   "source": [
    "seq[0,:10,:]"
   ]
  },
  {
   "cell_type": "code",
   "execution_count": 86,
   "metadata": {},
   "outputs": [],
   "source": [
    "sim = seq.mul(seq2)"
   ]
  },
  {
   "cell_type": "code",
   "execution_count": 89,
   "metadata": {},
   "outputs": [
    {
     "data": {
      "text/plain": [
       "tensor([100, 100, 100, 100, 100, 100, 100, 100, 100, 100, 100, 100, 100, 100,\n",
       "        100, 100, 100, 100, 100, 100])"
      ]
     },
     "execution_count": 89,
     "metadata": {},
     "output_type": "execute_result"
    }
   ],
   "source": [
    "sim.sum(dim=2).sum(dim=1)"
   ]
  },
  {
   "cell_type": "code",
   "execution_count": 90,
   "metadata": {},
   "outputs": [],
   "source": [
    "import logging"
   ]
  },
  {
   "cell_type": "code",
   "execution_count": 92,
   "metadata": {},
   "outputs": [
    {
     "name": "stderr",
     "output_type": "stream",
     "text": [
      "WARNING:root:careful !\n"
     ]
    }
   ],
   "source": [
    "logging.warning('careful !')"
   ]
  },
  {
   "cell_type": "code",
   "execution_count": 93,
   "metadata": {},
   "outputs": [],
   "source": [
    "logging.info(\"wow\")"
   ]
  },
  {
   "cell_type": "code",
   "execution_count": 91,
   "metadata": {},
   "outputs": [],
   "source": [
    "logging.debug('This message should go to the log file')"
   ]
  },
  {
   "cell_type": "code",
   "execution_count": 95,
   "metadata": {},
   "outputs": [],
   "source": [
    "logger = logging.basicConfig(filename='./example.log', encoding='utf-8', level=logging.DEBUG)"
   ]
  },
  {
   "cell_type": "code",
   "execution_count": 98,
   "metadata": {},
   "outputs": [],
   "source": [
    "logger = logging.getLogger('VAE')"
   ]
  },
  {
   "cell_type": "code",
   "execution_count": 100,
   "metadata": {},
   "outputs": [
    {
     "ename": "NameError",
     "evalue": "name 'setup_log' is not defined",
     "output_type": "error",
     "traceback": [
      "\u001b[0;31m---------------------------------------------------------------------------\u001b[0m",
      "\u001b[0;31mNameError\u001b[0m                                 Traceback (most recent call last)",
      "\u001b[0;32m<ipython-input-100-cc3b63e4df32>\u001b[0m in \u001b[0;36m<module>\u001b[0;34m\u001b[0m\n\u001b[0;32m----> 1\u001b[0;31m \u001b[0msetup_log\u001b[0m\u001b[0;34m\u001b[0m\u001b[0;34m\u001b[0m\u001b[0m\n\u001b[0m",
      "\u001b[0;31mNameError\u001b[0m: name 'setup_log' is not defined"
     ]
    }
   ],
   "source": [
    "setup_log"
   ]
  },
  {
   "cell_type": "code",
   "execution_count": 115,
   "metadata": {},
   "outputs": [],
   "source": [
    "model = DL_models.LSTM_VAE(4,2,2,2,8,1,'seq')"
   ]
  },
  {
   "cell_type": "code",
   "execution_count": 118,
   "metadata": {},
   "outputs": [],
   "source": [
    "model_type='VAE'"
   ]
  },
  {
   "cell_type": "code",
   "execution_count": 119,
   "metadata": {},
   "outputs": [
    {
     "data": {
      "text/plain": [
       "model.DL_models.VAE"
      ]
     },
     "execution_count": 119,
     "metadata": {},
     "output_type": "execute_result"
    }
   ],
   "source": [
    "eval(\"DL_models.{}\".format(model_type))"
   ]
  },
  {
   "cell_type": "code",
   "execution_count": 117,
   "metadata": {},
   "outputs": [
    {
     "data": {
      "text/plain": [
       "'LSTM_VAE'"
      ]
     },
     "execution_count": 117,
     "metadata": {},
     "output_type": "execute_result"
    }
   ],
   "source": [
    "model._get_name()"
   ]
  },
  {
   "cell_type": "code",
   "execution_count": 121,
   "metadata": {},
   "outputs": [
    {
     "data": {
      "text/plain": [
       "OrderedDict([('Encoder.weight_ih_l0',\n",
       "              tensor([[ 0.0096,  0.2408,  0.2909, -0.5923],\n",
       "                      [-0.1913, -0.3395,  0.2441,  0.5867],\n",
       "                      [-0.1850, -0.4196,  0.2892,  0.3886],\n",
       "                      [ 0.4101,  0.3996,  0.2516, -0.1189],\n",
       "                      [-0.4232, -0.3089, -0.2344, -0.0161],\n",
       "                      [ 0.0977, -0.6547,  0.5479,  0.5660],\n",
       "                      [-0.5268,  0.1155, -0.6400, -0.2380],\n",
       "                      [-0.4637, -0.1701, -0.6268,  0.5785]])),\n",
       "             ('Encoder.weight_hh_l0',\n",
       "              tensor([[-0.0751,  0.0464],\n",
       "                      [ 0.0757, -0.0723],\n",
       "                      [ 0.1526,  0.0660],\n",
       "                      [-0.0010,  0.3840],\n",
       "                      [ 0.7387,  0.2426],\n",
       "                      [ 0.5454,  0.2088],\n",
       "                      [-0.3445,  0.7979],\n",
       "                      [-0.0593,  0.3189]])),\n",
       "             ('Encoder.bias_ih_l0', tensor([0., 0., 0., 0., 0., 0., 0., 0.])),\n",
       "             ('Encoder.bias_hh_l0', tensor([0., 0., 0., 0., 0., 0., 0., 0.])),\n",
       "             ('Encoder.weight_ih_l0_reverse',\n",
       "              tensor([[ 0.3154,  0.3885, -0.2888,  0.1096],\n",
       "                      [ 0.6800,  0.6425,  0.6279, -0.6571],\n",
       "                      [-0.6120, -0.6028, -0.3686, -0.5590],\n",
       "                      [-0.3982,  0.0740, -0.4832,  0.1062],\n",
       "                      [-0.2742,  0.4630,  0.2039, -0.2524],\n",
       "                      [-0.1935,  0.3522,  0.4555,  0.2255],\n",
       "                      [ 0.1213,  0.4104, -0.5222, -0.3376],\n",
       "                      [-0.2494,  0.3892, -0.0639,  0.0794]])),\n",
       "             ('Encoder.weight_hh_l0_reverse',\n",
       "              tensor([[ 0.4225, -0.0778],\n",
       "                      [ 0.3501,  0.4654],\n",
       "                      [ 0.0994,  0.0605],\n",
       "                      [ 0.6564,  0.1924],\n",
       "                      [ 0.3642,  0.5527],\n",
       "                      [ 0.0770, -0.4529],\n",
       "                      [-0.6276, -0.2694],\n",
       "                      [-0.4977,  0.3777]])),\n",
       "             ('Encoder.bias_ih_l0_reverse',\n",
       "              tensor([ 0.0934, -0.1186,  0.6947,  0.5859, -0.4611,  0.1059,  0.2308, -0.0493])),\n",
       "             ('Encoder.bias_hh_l0_reverse',\n",
       "              tensor([-0.0772, -0.5839,  0.3085, -0.6371, -0.1679, -0.6875, -0.5199, -0.0671])),\n",
       "             ('Encoder.weight_ih_l1',\n",
       "              tensor([[-0.3346,  0.4793, -0.3972, -0.0624],\n",
       "                      [ 0.3814,  0.2719,  0.2116,  0.2650],\n",
       "                      [-0.2540,  0.3306,  0.6375,  0.4335],\n",
       "                      [-0.2416,  0.0447, -0.4453,  0.6659],\n",
       "                      [ 0.3292,  0.0785,  0.0686,  0.2573],\n",
       "                      [ 0.1388,  0.3476,  0.0554, -0.1847],\n",
       "                      [-0.1462, -0.0067, -0.0409, -0.2652],\n",
       "                      [ 0.3534, -0.6210,  0.2752,  0.1433]])),\n",
       "             ('Encoder.weight_hh_l1',\n",
       "              tensor([[ 0.2568, -0.5119],\n",
       "                      [ 0.5322, -0.3155],\n",
       "                      [-0.4025,  0.5147],\n",
       "                      [-0.1974, -0.6425],\n",
       "                      [-0.2724, -0.0995],\n",
       "                      [-0.3072, -0.0933],\n",
       "                      [-0.4098,  0.1636],\n",
       "                      [-0.0690, -0.3705]])),\n",
       "             ('Encoder.bias_ih_l1',\n",
       "              tensor([ 0.3146,  0.0379, -0.0800, -0.2209,  0.2727, -0.5294, -0.6922,  0.0629])),\n",
       "             ('Encoder.bias_hh_l1',\n",
       "              tensor([-0.0464,  0.1723,  0.5978,  0.0598, -0.3637, -0.5427,  0.0464,  0.5148])),\n",
       "             ('Encoder.weight_ih_l1_reverse',\n",
       "              tensor([[ 0.5829, -0.5589,  0.2282,  0.0942],\n",
       "                      [ 0.0404, -0.6100, -0.1472, -0.1861],\n",
       "                      [-0.4695, -0.4420, -0.6173,  0.4045],\n",
       "                      [ 0.3602,  0.4481, -0.5508,  0.2872],\n",
       "                      [-0.4995, -0.0174,  0.2593,  0.1891],\n",
       "                      [-0.3357, -0.1964, -0.5349, -0.3233],\n",
       "                      [-0.4662, -0.6087, -0.5145, -0.4391],\n",
       "                      [-0.5727, -0.6534,  0.1764,  0.1564]])),\n",
       "             ('Encoder.weight_hh_l1_reverse',\n",
       "              tensor([[ 0.3996, -0.2415],\n",
       "                      [-0.5598,  0.4583],\n",
       "                      [-0.2996, -0.7060],\n",
       "                      [ 0.5458,  0.2558],\n",
       "                      [ 0.1578,  0.2022],\n",
       "                      [ 0.3634, -0.1487],\n",
       "                      [-0.1499, -0.4674],\n",
       "                      [-0.6276, -0.3424]])),\n",
       "             ('Encoder.bias_ih_l1_reverse',\n",
       "              tensor([ 0.3758, -0.2179, -0.4060, -0.6976,  0.0743, -0.0228, -0.5151,  0.1695])),\n",
       "             ('Encoder.bias_hh_l1_reverse',\n",
       "              tensor([-0.2116,  0.5313,  0.6095, -0.3608,  0.4983,  0.3745, -0.2538,  0.3950])),\n",
       "             ('fc_mu.weight',\n",
       "              tensor([[-0.1541, -0.2621, -0.4111,  0.0399, -0.2435,  0.4776, -0.4837,  0.2639],\n",
       "                      [ 0.3613,  0.4421,  0.2105,  0.5933,  0.1157, -0.2883, -0.5832,  0.1714],\n",
       "                      [ 0.6098,  0.3849,  0.5371,  0.1485, -0.0733, -0.2607, -0.3192,  0.0793],\n",
       "                      [ 0.3660, -0.5120, -0.4908,  0.4382,  0.2228, -0.3002,  0.3139, -0.3298],\n",
       "                      [-0.3320, -0.4721,  0.0086, -0.3128,  0.5331, -0.3024,  0.0469,  0.1370],\n",
       "                      [-0.3601,  0.5227,  0.4643,  0.1823,  0.2528,  0.0572, -0.3039, -0.0086],\n",
       "                      [ 0.1000, -0.4809, -0.3569,  0.4367,  0.2110,  0.2125, -0.2817, -0.0452],\n",
       "                      [ 0.1038, -0.4901,  0.4950, -0.1825, -0.4396, -0.5792, -0.1822, -0.3534]])),\n",
       "             ('fc_mu.bias', tensor([0., 0., 0., 0., 0., 0., 0., 0.])),\n",
       "             ('fc_sigma.weight',\n",
       "              tensor([[-0.2667, -0.1122, -0.3270,  0.3042,  0.0744, -0.2880, -0.4150,  0.1676],\n",
       "                      [-0.2284,  0.3192, -0.5593, -0.1547, -0.2822, -0.2042, -0.0577, -0.3519],\n",
       "                      [-0.5396, -0.2775,  0.4369, -0.3444,  0.1474,  0.2786, -0.1370,  0.4390],\n",
       "                      [-0.4143,  0.5843, -0.4750, -0.5918,  0.3719, -0.4982, -0.5214, -0.2399],\n",
       "                      [-0.5183,  0.0194,  0.5391,  0.3449, -0.5398, -0.5386,  0.0332,  0.1498],\n",
       "                      [-0.0164,  0.4245, -0.0509, -0.2533, -0.3168,  0.0762,  0.4201, -0.2652],\n",
       "                      [ 0.0320, -0.1150, -0.0557, -0.4559,  0.3721,  0.2660, -0.1021,  0.1668],\n",
       "                      [-0.5327,  0.2698, -0.2543,  0.5604,  0.0320,  0.2115, -0.4308,  0.0583]])),\n",
       "             ('fc_sigma.bias', tensor([0., 0., 0., 0., 0., 0., 0., 0.])),\n",
       "             ('Decoder.weight_ih_l0',\n",
       "              tensor([[ 0.3408],\n",
       "                      [ 0.4552],\n",
       "                      [-0.3844],\n",
       "                      [-0.0543],\n",
       "                      [ 0.7026],\n",
       "                      [-0.7279],\n",
       "                      [-0.5032],\n",
       "                      [-0.2826]])),\n",
       "             ('Decoder.weight_hh_l0',\n",
       "              tensor([[-0.3677, -0.0725],\n",
       "                      [-0.2918,  0.5209],\n",
       "                      [ 0.2287, -0.2616],\n",
       "                      [-0.1230, -0.4520],\n",
       "                      [ 0.2636,  0.4438],\n",
       "                      [ 0.3924, -0.4180],\n",
       "                      [-0.6507, -0.2802],\n",
       "                      [ 0.2557, -0.0224]])),\n",
       "             ('Decoder.bias_ih_l0', tensor([0., 0., 0., 0., 0., 0., 0., 0.])),\n",
       "             ('Decoder.bias_hh_l0', tensor([0., 0., 0., 0., 0., 0., 0., 0.])),\n",
       "             ('Decoder.weight_ih_l1',\n",
       "              tensor([[ 0.1616,  0.5713],\n",
       "                      [ 0.0321,  0.0215],\n",
       "                      [-0.6814,  0.3025],\n",
       "                      [ 0.4732,  0.0615],\n",
       "                      [-0.5331, -0.4107],\n",
       "                      [ 0.3013,  0.0245],\n",
       "                      [-0.6846,  0.5126],\n",
       "                      [ 0.5908,  0.0164]])),\n",
       "             ('Decoder.weight_hh_l1',\n",
       "              tensor([[-0.6717,  0.6147],\n",
       "                      [-0.0779, -0.3801],\n",
       "                      [ 0.6215,  0.0060],\n",
       "                      [-0.4603, -0.6103],\n",
       "                      [-0.4876, -0.4918],\n",
       "                      [-0.4438,  0.1519],\n",
       "                      [-0.3137,  0.3759],\n",
       "                      [ 0.4565,  0.2921]])),\n",
       "             ('Decoder.bias_ih_l1',\n",
       "              tensor([-0.5517,  0.4554,  0.1249, -0.0896, -0.3571,  0.1543,  0.3407,  0.0474])),\n",
       "             ('Decoder.bias_hh_l1',\n",
       "              tensor([ 0.6794, -0.2219, -0.0609, -0.1494,  0.0736, -0.0078, -0.3444,  0.3362])),\n",
       "             ('fc_code2hs.weight',\n",
       "              tensor([[-1.5929e-01, -6.2945e-02,  3.0243e-01,  1.3357e-01,  2.9807e-01,\n",
       "                       -2.7661e-01,  3.0209e-01,  2.4039e-01],\n",
       "                      [ 1.1705e-02,  1.4779e-01, -3.4700e-01, -7.8553e-02,  9.0145e-02,\n",
       "                        3.0426e-01,  2.3890e-01,  1.6437e-01],\n",
       "                      [ 3.9551e-02, -2.0135e-01, -1.9409e-01, -2.3107e-01,  1.8314e-01,\n",
       "                        2.0794e-01,  1.2010e-01,  6.6428e-02],\n",
       "                      [ 5.7035e-02,  2.4109e-01, -7.4088e-02, -2.9486e-02,  2.0252e-04,\n",
       "                       -1.1766e-01,  3.5262e-02, -2.4641e-01]])),\n",
       "             ('fc_code2hs.bias', tensor([ 0.2672, -0.2246, -0.0990,  0.0099])),\n",
       "             ('fc_code2seq.weight',\n",
       "              tensor([[-0.1950,  0.2587,  0.3336,  0.1623,  0.1306,  0.3420, -0.1704, -0.1989],\n",
       "                      [ 0.2325, -0.0134,  0.1160,  0.1995,  0.0403, -0.2927,  0.3308,  0.1198],\n",
       "                      [-0.1311, -0.2158, -0.3521,  0.2535, -0.0062, -0.2089,  0.2867,  0.0565],\n",
       "                      [-0.3143, -0.0613, -0.3378,  0.2916, -0.0209,  0.2062,  0.2297, -0.3128],\n",
       "                      [ 0.1716,  0.2292,  0.1641,  0.2079,  0.1473, -0.2539, -0.2125, -0.2922],\n",
       "                      [ 0.3263, -0.0912, -0.0969, -0.0304,  0.1299, -0.3231, -0.3029, -0.1024],\n",
       "                      [-0.2149, -0.3001,  0.0781, -0.0963,  0.3490, -0.1204,  0.3203, -0.1516],\n",
       "                      [ 0.0733,  0.0331,  0.3013,  0.0907,  0.1481,  0.2232,  0.3078,  0.1797],\n",
       "                      [-0.1245, -0.3028,  0.0076,  0.2518, -0.1099,  0.1336,  0.0368,  0.1274],\n",
       "                      [ 0.0627, -0.0671,  0.2270,  0.2717, -0.2095,  0.0916, -0.0104, -0.0216],\n",
       "                      [ 0.0899,  0.1949, -0.3052,  0.0644,  0.1526,  0.2051,  0.2312,  0.3401],\n",
       "                      [ 0.2570,  0.0138, -0.2022,  0.0242, -0.1503, -0.3376, -0.3235,  0.2888],\n",
       "                      [-0.0430,  0.3088,  0.2152,  0.0914,  0.1724, -0.3158,  0.3152,  0.2992],\n",
       "                      [-0.2497, -0.1342,  0.2389,  0.2612,  0.0149,  0.0855,  0.2371, -0.0636],\n",
       "                      [-0.1912, -0.0403, -0.1293,  0.2485,  0.0667, -0.2836,  0.2554, -0.0560],\n",
       "                      [-0.1162, -0.1493, -0.2726, -0.0367,  0.1788,  0.1666, -0.2776,  0.2290],\n",
       "                      [ 0.2658, -0.1958,  0.2965,  0.0005, -0.2381, -0.0750,  0.0901,  0.1664],\n",
       "                      [ 0.1147,  0.1071, -0.0073, -0.2792, -0.2550, -0.2426,  0.3039, -0.2409],\n",
       "                      [ 0.2338, -0.2762,  0.1634, -0.0976, -0.0062, -0.3511,  0.3123,  0.3041],\n",
       "                      [-0.2416,  0.2839, -0.2574, -0.3354, -0.1408, -0.0665, -0.1200, -0.2268],\n",
       "                      [ 0.1553,  0.1136,  0.0444, -0.2593, -0.3523, -0.3503,  0.1570, -0.1728],\n",
       "                      [-0.3015, -0.2225, -0.3333, -0.2675,  0.0060, -0.2008,  0.1965, -0.1352],\n",
       "                      [ 0.3020, -0.3529, -0.0614, -0.1877,  0.1082,  0.1862, -0.1041, -0.1319],\n",
       "                      [ 0.0216, -0.1419,  0.2286, -0.0607, -0.2745,  0.1694,  0.2515, -0.0677],\n",
       "                      [ 0.2035, -0.2475,  0.3259,  0.2008,  0.2951,  0.0470, -0.3322, -0.1188],\n",
       "                      [ 0.1188, -0.1302, -0.1722, -0.2237,  0.0495,  0.0957, -0.3188, -0.1127],\n",
       "                      [ 0.1240,  0.0309,  0.2965,  0.0554,  0.1350, -0.3446,  0.3176,  0.2217],\n",
       "                      [-0.0995,  0.1180, -0.3100, -0.2664,  0.2627, -0.1263, -0.3328, -0.0971],\n",
       "                      [-0.0669,  0.3059, -0.3251,  0.0605,  0.1456,  0.2458,  0.3264,  0.1038],\n",
       "                      [-0.0209,  0.2866, -0.1297, -0.1618,  0.1491, -0.0913,  0.0328, -0.1596],\n",
       "                      [ 0.2677, -0.1376, -0.1972,  0.0892, -0.2433,  0.2165, -0.1488,  0.3464],\n",
       "                      [ 0.2832,  0.2716,  0.1901, -0.0038,  0.1323, -0.3320,  0.0941, -0.2480],\n",
       "                      [ 0.2011, -0.0078,  0.1049, -0.3363,  0.2988,  0.0229, -0.1085,  0.1039],\n",
       "                      [-0.1053, -0.0989, -0.3510, -0.2843,  0.1949,  0.1399,  0.2966, -0.2685],\n",
       "                      [ 0.3470, -0.0290,  0.0567,  0.1718,  0.1398, -0.0006, -0.0925,  0.1988],\n",
       "                      [-0.3158,  0.2530,  0.0115, -0.0977,  0.0711,  0.0352,  0.0208,  0.0919],\n",
       "                      [ 0.1195, -0.3491, -0.2134, -0.2650,  0.0955,  0.0806, -0.3183, -0.1159],\n",
       "                      [ 0.2380, -0.1273,  0.3385, -0.3438, -0.1091, -0.3496,  0.2812,  0.1053],\n",
       "                      [ 0.2100,  0.1966, -0.3529,  0.1167, -0.0687, -0.0855, -0.0384, -0.2822],\n",
       "                      [ 0.1870,  0.0552,  0.2112, -0.1278, -0.2603, -0.1169, -0.2748, -0.2516],\n",
       "                      [ 0.0092,  0.3450, -0.0703,  0.2359,  0.3319,  0.0854,  0.1826, -0.1760],\n",
       "                      [ 0.3057, -0.2899,  0.1940, -0.2842, -0.3391,  0.2518, -0.2766,  0.0781],\n",
       "                      [-0.0143, -0.1219,  0.1800,  0.0186,  0.1264, -0.1693, -0.0920, -0.2339],\n",
       "                      [-0.1148, -0.3197,  0.1394,  0.2909,  0.1989, -0.1590,  0.3178,  0.1987],\n",
       "                      [-0.3361, -0.1053,  0.1054, -0.1591, -0.2567, -0.1279,  0.2827,  0.3089],\n",
       "                      [ 0.3346,  0.0478, -0.2448, -0.1164,  0.2300, -0.0060, -0.1089, -0.2204],\n",
       "                      [ 0.3057, -0.1195, -0.1207,  0.1757,  0.0689, -0.3070,  0.0318, -0.2748],\n",
       "                      [-0.0364, -0.0251,  0.2962,  0.1012, -0.0205,  0.2915,  0.1065, -0.2064],\n",
       "                      [-0.3215,  0.0650,  0.0949,  0.1223, -0.0919,  0.1839, -0.1319, -0.2062],\n",
       "                      [ 0.2037,  0.2167,  0.0090, -0.2232,  0.1695, -0.3264,  0.2510,  0.0047],\n",
       "                      [-0.1006, -0.2409,  0.3305, -0.3383, -0.2040,  0.0588, -0.0603,  0.3164],\n",
       "                      [ 0.0991, -0.3107, -0.0606,  0.1570, -0.3139, -0.1362, -0.1304, -0.2797],\n",
       "                      [-0.0954, -0.2656,  0.3088,  0.3440,  0.2337,  0.1696, -0.0221,  0.0050],\n",
       "                      [-0.0404,  0.0020,  0.1147, -0.1406,  0.1227,  0.0123,  0.2741, -0.2213],\n",
       "                      [ 0.1267, -0.2164, -0.0156, -0.2875,  0.1627,  0.0924, -0.1271, -0.3015],\n",
       "                      [-0.2989,  0.0686, -0.0318, -0.0193, -0.0072, -0.0202,  0.1251, -0.2168],\n",
       "                      [ 0.3089, -0.2758,  0.1058,  0.2012, -0.3074,  0.1324,  0.2136,  0.0892],\n",
       "                      [-0.1776,  0.2484,  0.0524, -0.0640,  0.0580, -0.2197, -0.2156,  0.0362],\n",
       "                      [-0.0414,  0.0208,  0.0376, -0.1690,  0.2371,  0.0816,  0.1949,  0.0374],\n",
       "                      [-0.1496,  0.2399, -0.3501,  0.0006,  0.3189, -0.1336, -0.2680, -0.0598],\n",
       "                      [-0.1307,  0.0415, -0.2678,  0.3318, -0.2070,  0.3310, -0.1156,  0.1114],\n",
       "                      [ 0.3416, -0.2364,  0.0647,  0.2981, -0.0025,  0.1119, -0.1475, -0.3002],\n",
       "                      [ 0.1231, -0.0197,  0.2072, -0.1881, -0.0728,  0.0467,  0.2244,  0.1054],\n",
       "                      [-0.2922, -0.2749,  0.1520, -0.3495,  0.0113,  0.0813, -0.2594,  0.2053],\n",
       "                      [ 0.0564,  0.3185, -0.3298,  0.3030, -0.3059,  0.0192,  0.2289,  0.1068],\n",
       "                      [-0.3321,  0.1123,  0.3170,  0.2016,  0.0483,  0.2086,  0.3384, -0.2527],\n",
       "                      [-0.3090,  0.2792, -0.2060,  0.1556, -0.2826,  0.1915,  0.1098,  0.2644],\n",
       "                      [-0.2209, -0.0665, -0.0990,  0.2500,  0.2179, -0.0506, -0.3241,  0.0137],\n",
       "                      [-0.2225,  0.2257,  0.0599,  0.0465, -0.1004,  0.3020,  0.0838,  0.2427],\n",
       "                      [ 0.1378,  0.1441, -0.0021, -0.0316, -0.0475, -0.2772,  0.1172,  0.2642],\n",
       "                      [-0.1554,  0.2694,  0.3182, -0.3182, -0.2545, -0.2380,  0.1232,  0.2342],\n",
       "                      [ 0.0698, -0.0144, -0.2792,  0.0060, -0.3205, -0.3508, -0.3124, -0.0738],\n",
       "                      [-0.2621, -0.1581, -0.0042,  0.0692, -0.3173,  0.1468,  0.2628, -0.0443],\n",
       "                      [ 0.1786, -0.0677,  0.3513, -0.0308, -0.3388, -0.1923,  0.2261,  0.3138],\n",
       "                      [-0.2431, -0.3335, -0.0672, -0.2136,  0.1332,  0.2108,  0.2838, -0.2802],\n",
       "                      [-0.0963,  0.0817,  0.1613,  0.2157, -0.2313, -0.1563,  0.0685,  0.1709],\n",
       "                      [ 0.2263, -0.0800, -0.0574,  0.2929,  0.3202, -0.0597, -0.2179, -0.1991],\n",
       "                      [ 0.3137,  0.0050, -0.2162,  0.2752,  0.2433,  0.1332, -0.2642, -0.0558],\n",
       "                      [-0.2357, -0.2671, -0.0340,  0.2292,  0.3346, -0.3358,  0.3478,  0.1107],\n",
       "                      [ 0.2870,  0.0298,  0.0114,  0.3465, -0.0868,  0.0574, -0.1252, -0.3503],\n",
       "                      [ 0.3495,  0.2801, -0.0263,  0.1384,  0.0403,  0.0088,  0.0250,  0.1547],\n",
       "                      [-0.3516,  0.0694,  0.2593, -0.3201, -0.3106, -0.2886,  0.2172, -0.0355],\n",
       "                      [ 0.0294,  0.2135, -0.0233,  0.2936, -0.0940,  0.3222, -0.3041, -0.2160],\n",
       "                      [ 0.1020,  0.0428,  0.1048, -0.3425, -0.0078,  0.1544, -0.1949,  0.0441],\n",
       "                      [ 0.2633, -0.1091, -0.3381, -0.1200,  0.0572, -0.1348,  0.1230, -0.3046],\n",
       "                      [ 0.3270, -0.0418,  0.1376,  0.1488, -0.3438,  0.3023, -0.1345,  0.1413],\n",
       "                      [ 0.0335, -0.2029, -0.1439,  0.2457,  0.0960,  0.0183,  0.0995, -0.1453],\n",
       "                      [-0.1756,  0.0517,  0.2727,  0.3072,  0.2965,  0.2937, -0.0352,  0.2126],\n",
       "                      [-0.2430, -0.1699, -0.1937,  0.3308, -0.0524,  0.1075,  0.1174, -0.1621],\n",
       "                      [ 0.3042, -0.3364, -0.0816, -0.2728,  0.3338,  0.1823,  0.0145, -0.1998],\n",
       "                      [-0.2407,  0.0727, -0.0095,  0.1455,  0.2483,  0.0855,  0.1815,  0.3356],\n",
       "                      [ 0.3487,  0.1569,  0.1618,  0.2116, -0.0884, -0.1726,  0.2392, -0.1823],\n",
       "                      [-0.2946, -0.0795,  0.1386,  0.2893,  0.1494, -0.1303, -0.0126, -0.0915],\n",
       "                      [-0.2838, -0.0427,  0.2763, -0.1489, -0.0385, -0.0311, -0.1135, -0.1736],\n",
       "                      [ 0.1076, -0.0267, -0.1484, -0.3385, -0.2644, -0.0628,  0.0867,  0.3259],\n",
       "                      [ 0.2853, -0.1004, -0.0265, -0.1891,  0.1364,  0.1523, -0.1874,  0.0211],\n",
       "                      [-0.1359, -0.1655, -0.2875,  0.0023, -0.0320,  0.0392, -0.1980,  0.0995],\n",
       "                      [-0.1905,  0.2128, -0.1813, -0.0325,  0.2295,  0.2773,  0.2105,  0.1200],\n",
       "                      [-0.0595, -0.0988,  0.2624,  0.1469, -0.2915, -0.0550,  0.1350, -0.3018],\n",
       "                      [ 0.0264, -0.3283,  0.2127, -0.1215,  0.0452,  0.2415,  0.1176,  0.0054]])),\n",
       "             ('fc_code2seq.bias',\n",
       "              tensor([-2.3638e-01,  2.3384e-01, -3.0696e-01,  1.5802e-01, -7.2475e-02,\n",
       "                      -1.0441e-01,  2.0605e-01,  2.4267e-01,  9.7720e-02,  1.2534e-03,\n",
       "                       2.9536e-01, -2.8913e-01, -1.8194e-02,  1.7242e-01, -2.9760e-01,\n",
       "                      -3.1338e-02,  4.4795e-02, -2.2080e-01, -3.2257e-02,  3.3962e-01,\n",
       "                       7.1017e-05, -3.1711e-01,  2.6262e-01,  2.4443e-01, -6.8263e-03,\n",
       "                      -2.2173e-01,  1.9180e-01, -4.1195e-02, -2.4752e-01, -2.5591e-01,\n",
       "                       1.8413e-01,  5.5222e-02,  1.6780e-01,  3.4050e-01,  3.0929e-02,\n",
       "                       3.2886e-01, -3.2451e-01, -3.0526e-02, -1.2016e-01,  1.9917e-01,\n",
       "                      -1.3949e-01,  1.0070e-01,  2.0475e-02, -9.2020e-02,  2.6180e-01,\n",
       "                      -1.6707e-01,  9.8053e-02, -3.3197e-01, -8.2277e-02,  2.5360e-01,\n",
       "                      -2.4827e-01, -2.4368e-01, -1.9199e-01,  3.1189e-01,  1.5076e-02,\n",
       "                      -1.3593e-01,  2.8918e-01, -1.2999e-01,  2.0862e-01,  1.3527e-01,\n",
       "                      -1.2972e-01,  3.3410e-01, -6.4595e-02,  1.9569e-01, -1.2420e-01,\n",
       "                       1.8033e-01, -3.4613e-01,  3.0617e-02, -2.5904e-01, -3.3064e-02,\n",
       "                       1.9312e-01, -2.4801e-01,  2.0875e-01,  1.2576e-01,  1.1013e-01,\n",
       "                      -2.2269e-02,  6.1808e-02, -2.2528e-01, -4.5344e-02, -3.3850e-01,\n",
       "                      -2.2515e-02, -2.9253e-01,  2.9935e-01,  1.2754e-01, -2.3469e-01,\n",
       "                      -5.4320e-02,  2.9489e-01,  9.3370e-02, -8.7809e-02, -1.3813e-01,\n",
       "                      -1.5250e-01,  5.5033e-02, -2.3914e-01, -2.9020e-01, -4.8099e-02,\n",
       "                       3.0491e-01, -1.8783e-03,  7.5216e-02, -1.5185e-01,  2.0112e-01])),\n",
       "             ('fc_out2word.weight',\n",
       "              tensor([[-0.3993, -0.0111],\n",
       "                      [ 0.3758, -0.1619],\n",
       "                      [-0.4257, -0.6053],\n",
       "                      [ 0.2913, -0.0224]])),\n",
       "             ('fc_out2word.bias',\n",
       "              tensor([ 0.1327, -0.4575, -0.4466, -0.5903]))])"
      ]
     },
     "execution_count": 121,
     "metadata": {},
     "output_type": "execute_result"
    }
   ],
   "source": [
    "model.state_dict()"
   ]
  },
  {
   "cell_type": "code",
   "execution_count": null,
   "metadata": {},
   "outputs": [],
   "source": []
  }
 ],
 "metadata": {
  "kernelspec": {
   "display_name": "Python 3",
   "language": "python",
   "name": "python3"
  },
  "language_info": {
   "codemirror_mode": {
    "name": "ipython",
    "version": 3
   },
   "file_extension": ".py",
   "mimetype": "text/x-python",
   "name": "python",
   "nbconvert_exporter": "python",
   "pygments_lexer": "ipython3",
   "version": "3.8.5"
  },
  "toc-autonumbering": true,
  "toc-showcode": false,
  "toc-showmarkdowntxt": true,
  "toc-showtags": false
 },
 "nbformat": 4,
 "nbformat_minor": 4
}
