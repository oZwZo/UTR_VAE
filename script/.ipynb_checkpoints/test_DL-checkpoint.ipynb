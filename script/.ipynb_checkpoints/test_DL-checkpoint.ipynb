{
 "cells": [
  {
   "cell_type": "markdown",
   "metadata": {},
   "source": [
    "# test DL models"
   ]
  },
  {
   "cell_type": "markdown",
   "metadata": {},
   "source": [
    "## so much import"
   ]
  },
  {
   "cell_type": "code",
   "execution_count": 1,
   "metadata": {},
   "outputs": [
    {
     "name": "stdout",
     "output_type": "stream",
     "text": [
      "/home/wergillius/Project/UTR_VAE\n"
     ]
    }
   ],
   "source": [
    "import os\n",
    "import sys\n",
    "import pandas as pd\n",
    "import numpy as np\n",
    "import re\n",
    "import PATH\n",
    "import torch\n",
    "from torch import nn\n",
    "from torch.utils.data import DataLoader,Dataset,random_split\n",
    "\n",
    "from matplotlib import pyplot as plt\n",
    "\n",
    "from models.popen import Auto_popen\n",
    "from models.ScheduleOptimizer import ScheduledOptim \n",
    "from models.log_and_save import Log_parser,plot_a_exp_set\n",
    "from models import reader\n",
    "from models import DL_models\n",
    "\n",
    "from utils import Seq_one_hot,read_UTR_csv,read_label"
   ]
  },
  {
   "cell_type": "markdown",
   "metadata": {
    "collapsed": "true"
   },
   "source": [
    "### read data"
   ]
  },
  {
   "cell_type": "code",
   "execution_count": 2,
   "metadata": {},
   "outputs": [],
   "source": [
    "# define data\n",
    "dataset = reader.UTR_dataset(cell_line='A549')\n",
    "\n",
    "train_loader,val_loader,test_loader = reader.get_splited_dataloader(dataset,\n",
    "                                                                    ratio=[0.7,0.2,0.1],\n",
    "                                                                    batch_size=10,\n",
    "                                                                    num_workers=4)"
   ]
  },
  {
   "cell_type": "code",
   "execution_count": 3,
   "metadata": {},
   "outputs": [],
   "source": [
    "train_iter=iter(train_loader)"
   ]
  },
  {
   "cell_type": "code",
   "execution_count": 4,
   "metadata": {},
   "outputs": [
    {
     "data": {
      "text/plain": [
       "10"
      ]
     },
     "execution_count": 4,
     "metadata": {},
     "output_type": "execute_result"
    }
   ],
   "source": [
    "train_loader.batch_size"
   ]
  },
  {
   "cell_type": "code",
   "execution_count": 5,
   "metadata": {},
   "outputs": [],
   "source": [
    "# from train loader get some data\n",
    "batch_data = next(train_iter)\n",
    "\n",
    "X, y = batch_data\n",
    "X = X.float()\n",
    "y = y.long()"
   ]
  },
  {
   "cell_type": "code",
   "execution_count": 6,
   "metadata": {},
   "outputs": [
    {
     "data": {
      "text/plain": [
       "(torch.Size([10, 100, 4]), torch.Size([10]))"
      ]
     },
     "execution_count": 6,
     "metadata": {},
     "output_type": "execute_result"
    }
   ],
   "source": [
    "X.shape , y.shape"
   ]
  },
  {
   "cell_type": "code",
   "execution_count": 18,
   "metadata": {},
   "outputs": [],
   "source": [
    "X_conv=X.transpose(1,2)"
   ]
  },
  {
   "cell_type": "markdown",
   "metadata": {},
   "source": [
    "## the kernel shape"
   ]
  },
  {
   "cell_type": "code",
   "execution_count": 7,
   "metadata": {},
   "outputs": [],
   "source": [
    "from utils import cal_convTrans_shape , cal_conv_shape"
   ]
  },
  {
   "cell_type": "code",
   "execution_count": 10,
   "metadata": {},
   "outputs": [],
   "source": [
    "def cal_convTrans_shape(L_in,kernel_size,padding=0,stride=1,diliation=1,out_padding=0):\n",
    "    \"\"\"\n",
    "    For convolution Transpose 1D decoding , compute the final length\n",
    "    \"\"\"\n",
    "    L_out = (L_in -1 )*stride + diliation*(kernel_size -1 )+1-2*padding + out_padding \n",
    "    return L_out\n",
    "\n",
    "def cal_conv_shape(L_in,kernel_size,padding=0,diliation=1,stride=1):\n",
    "    \"\"\"\n",
    "    For convolution 1D encoding , compute the final length \n",
    "    \"\"\"\n",
    "    L_out = 1+ (L_in + 2*padding -diliation*(kernel_size-1) -1)/stride\n",
    "    return L_out"
   ]
  },
  {
   "cell_type": "code",
   "execution_count": 20,
   "metadata": {},
   "outputs": [],
   "source": [
    "Conv_block = lambda in_chan,out_chan : nn.Sequential(nn.Conv1d(in_chan,out_chan,kernel_size=3,stride=2,padding=))"
   ]
  },
  {
   "cell_type": "code",
   "execution_count": 11,
   "metadata": {},
   "outputs": [
    {
     "data": {
      "text/plain": [
       "98.0"
      ]
     },
     "execution_count": 11,
     "metadata": {},
     "output_type": "execute_result"
    }
   ],
   "source": [
    "cal_conv_shape(100,3)"
   ]
  },
  {
   "cell_type": "code",
   "execution_count": 65,
   "metadata": {},
   "outputs": [
    {
     "name": "stdout",
     "output_type": "stream",
     "text": [
      "50.0\n",
      "24.0\n",
      "12.0\n",
      "5.0\n"
     ]
    }
   ],
   "source": [
    "Chann = [4,16,32,64,128]\n",
    "pad_ls = [1,0,1,0]\n",
    "L_in = 100\n",
    "for i in range(len(Chann)-1):\n",
    "    L_out = cal_conv_shape(L_in,4,stride=2,padding=pad_ls[i])\n",
    "    L_in = L_out\n",
    "    print(L_out)"
   ]
  },
  {
   "cell_type": "code",
   "execution_count": 66,
   "metadata": {},
   "outputs": [
    {
     "name": "stdout",
     "output_type": "stream",
     "text": [
      "12\n",
      "24\n",
      "50\n",
      "100\n"
     ]
    }
   ],
   "source": [
    "Chann = [4,16,32,64,128]\n",
    "pad_ls = [1,0,1,0]\n",
    "L_in = 5\n",
    "for i in range(len(Chann)-1):\n",
    "    L_out = cal_convTrans_shape(L_in,4,stride=2,padding=pad_ls[::-1][i],out_padding=0)\n",
    "    L_in = L_out\n",
    "    print(L_out)"
   ]
  },
  {
   "cell_type": "code",
   "execution_count": 73,
   "metadata": {},
   "outputs": [],
   "source": [
    "Chann = [4,16,32,64,128]\n",
    "pad_ls = [1,0,1,0]\n",
    "Conv_sequence = nn.ModuleList(\n",
    "    [nn.Conv1d(Chann[i],Chann[i+1],4,stride=2,padding=pad_ls[i]) for i in range(len(Chann)-1)]\n",
    ")\n",
    "Deconv_sequqnce = nn.ModuleList(\n",
    "    [nn.ConvTranspose1d(Chann[::-1][i],Chann[::-1][i+1],4,stride=2,padding=pad_ls[::-1][i]) for i in range(len(Chann)-1)]\n",
    ")"
   ]
  },
  {
   "cell_type": "code",
   "execution_count": 74,
   "metadata": {},
   "outputs": [
    {
     "name": "stdout",
     "output_type": "stream",
     "text": [
      "start Conv\n",
      "torch.Size([10, 16, 50])\n",
      "torch.Size([10, 32, 24])\n",
      "torch.Size([10, 64, 12])\n",
      "torch.Size([10, 128, 5])\n"
     ]
    }
   ],
   "source": [
    "out = X_conv\n",
    "print(\"start Conv\")\n",
    "for model in Conv_sequence:\n",
    "    out = model(out)\n",
    "    print(out.shape)"
   ]
  },
  {
   "cell_type": "code",
   "execution_count": 75,
   "metadata": {},
   "outputs": [
    {
     "name": "stdout",
     "output_type": "stream",
     "text": [
      "start Deconv\n",
      "torch.Size([10, 64, 12])\n",
      "torch.Size([10, 32, 24])\n",
      "torch.Size([10, 16, 50])\n",
      "torch.Size([10, 4, 100])\n"
     ]
    }
   ],
   "source": [
    "print(\"start Deconv\")\n",
    "for model in Deconv_sequqnce:\n",
    "    out = model(out)\n",
    "    print(out.shape)"
   ]
  },
  {
   "cell_type": "code",
   "execution_count": 81,
   "metadata": {},
   "outputs": [],
   "source": [
    "from importlib import reload"
   ]
  },
  {
   "cell_type": "code",
   "execution_count": 90,
   "metadata": {},
   "outputs": [
    {
     "data": {
      "text/plain": [
       "<module 'models.CNN_models' from '/home/wergillius/Project/UTR_VAE/models/CNN_models.py'>"
      ]
     },
     "execution_count": 90,
     "metadata": {},
     "output_type": "execute_result"
    }
   ],
   "source": [
    "from models import CNN_models\n",
    "reload(CNN_models)"
   ]
  },
  {
   "cell_type": "code",
   "execution_count": 91,
   "metadata": {},
   "outputs": [],
   "source": [
    "model = CNN_models.Conv_AE(channel_ls=[4,16,32,64,128], padding_ls=[1,0,1,0])"
   ]
  },
  {
   "cell_type": "code",
   "execution_count": 94,
   "metadata": {},
   "outputs": [],
   "source": [
    "X = X.transpose(1,2)"
   ]
  },
  {
   "cell_type": "code",
   "execution_count": 95,
   "metadata": {},
   "outputs": [
    {
     "data": {
      "text/plain": [
       "torch.Size([10, 4, 100])"
      ]
     },
     "execution_count": 95,
     "metadata": {},
     "output_type": "execute_result"
    }
   ],
   "source": [
    "X.shape"
   ]
  },
  {
   "cell_type": "code",
   "execution_count": 96,
   "metadata": {},
   "outputs": [],
   "source": [
    "out = model(X)"
   ]
  },
  {
   "cell_type": "code",
   "execution_count": 97,
   "metadata": {},
   "outputs": [
    {
     "data": {
      "text/plain": [
       "torch.Size([10, 4, 100])"
      ]
     },
     "execution_count": 97,
     "metadata": {},
     "output_type": "execute_result"
    }
   ],
   "source": [
    "out.shape"
   ]
  },
  {
   "cell_type": "code",
   "execution_count": 102,
   "metadata": {},
   "outputs": [
    {
     "data": {
      "image/png": "[encoded data removed]",
      "text/plain": [
       "<Figure size 432x288 with 1 Axes>"
      ]
     },
     "metadata": {
      "needs_background": "light"
     },
     "output_type": "display_data"
    }
   ],
   "source": [
    "plt.imshow(X[0],aspect='auto');"
   ]
  },
  {
   "cell_type": "code",
   "execution_count": 104,
   "metadata": {},
   "outputs": [
    {
     "data": {
      "image/png": "[encoded data removed]",
      "text/plain": [
       "<Figure size 432x288 with 1 Axes>"
      ]
     },
     "metadata": {
      "needs_background": "light"
     },
     "output_type": "display_data"
    }
   ],
   "source": [
    "plt.imshow(out[0].detach().numpy(),aspect='auto');"
   ]
  },
  {
   "cell_type": "code",
   "execution_count": 140,
   "metadata": {},
   "outputs": [],
   "source": [
    "def compute_acc(X,out):\n",
    "    batch_size = X.shape[0]       # B*100*4\n",
    "    true_max=torch.argmax(X,dim=2)\n",
    "\n",
    "    recon_max=torch.argmax(out,dim=2)\n",
    "\n",
    "    return torch.sum(true_max == recon_max).item() \n",
    "    "
   ]
  },
  {
   "cell_type": "code",
   "execution_count": 152,
   "metadata": {},
   "outputs": [],
   "source": [
    "def reconstruct_seq(out_seq,X):\n",
    "    seq = torch.zeros_like(X)\n",
    "#     out_seq = torch.cat(out_seq,dim=1)\n",
    "    position = torch.argmax(out_seq,dim=2)     # X_reconst : b*100*4\n",
    "\n",
    "    for batch_idx in range(X.shape[0]):\n",
    "        for i,j in enumerate(position[batch_idx]):\n",
    "            seq[batch_idx,i,j.item()] = 1     \n",
    "            \n",
    "    return torch.mean(X.mul(seq).sum(dim=2).sum(dim=1)) "
   ]
  },
  {
   "cell_type": "code",
   "execution_count": 147,
   "metadata": {},
   "outputs": [
    {
     "data": {
      "text/plain": [
       "torch.Size([10, 4, 100])"
      ]
     },
     "execution_count": 147,
     "metadata": {},
     "output_type": "execute_result"
    }
   ],
   "source": []
  },
  {
   "cell_type": "code",
   "execution_count": 143,
   "metadata": {},
   "outputs": [
    {
     "name": "stdout",
     "output_type": "stream",
     "text": [
      "519 µs ± 60.5 µs per loop (mean ± std. dev. of 7 runs, 1000 loops each)\n"
     ]
    }
   ],
   "source": [
    "%timeit compute_acc(X,out)"
   ]
  },
  {
   "cell_type": "code",
   "execution_count": 148,
   "metadata": {},
   "outputs": [],
   "source": [
    "out_T = out.transpose(1,2)\n",
    "X_T = X.transpose(1,2)"
   ]
  },
  {
   "cell_type": "code",
   "execution_count": 151,
   "metadata": {},
   "outputs": [
    {
     "data": {
      "text/plain": [
       "torch.Size([10, 100, 4])"
      ]
     },
     "execution_count": 151,
     "metadata": {},
     "output_type": "execute_result"
    }
   ],
   "source": [
    "out_T.shape"
   ]
  },
  {
   "cell_type": "code",
   "execution_count": 153,
   "metadata": {},
   "outputs": [
    {
     "name": "stdout",
     "output_type": "stream",
     "text": [
      "13.2 ms ± 1.55 ms per loop (mean ± std. dev. of 7 runs, 100 loops each)\n"
     ]
    }
   ],
   "source": [
    "%timeit reconstruct_seq(out_T,X_T)"
   ]
  },
  {
   "cell_type": "code",
   "execution_count": 122,
   "metadata": {},
   "outputs": [],
   "source": [
    "loss_fnc=nn.MSELoss(reduction='mean')"
   ]
  },
  {
   "cell_type": "markdown",
   "metadata": {},
   "source": [
    "\n",
    "$$    \\ell(x, y) = L = \\{l_1,\\dots,l_N\\}^\\top, \\quad\n",
    "    l_n = \\left( x_n - y_n \\right)^2,$$\n",
    "\n",
    "where $N$ is the batch size. If :attr:`reduction` is not ``'none'``\n",
    "(default ``'mean'``), then:\n",
    "\n",
    "$$    \\ell(x, y) =\n",
    "    \\begin{cases}\n",
    "        \\operatorname{mean}(L), &  \\text{if reduction} = \\text{'mean';}\\\\\n",
    "        \\operatorname{sum}(L),  &  \\text{if reduction} = \\text{'sum'.}\n",
    "    \\end{cases}$$\n",
    "\n",
    ":$x$ and :$y$ are tensors of arbitrary shapes with a total\n",
    "of :$n$ elements each "
   ]
  },
  {
   "cell_type": "code",
   "execution_count": 120,
   "metadata": {},
   "outputs": [],
   "source": [
    "loss = loss_fnc(out,X)"
   ]
  },
  {
   "cell_type": "code",
   "execution_count": 121,
   "metadata": {},
   "outputs": [
    {
     "data": {
      "text/plain": [
       "tensor(2143.4841, grad_fn=<MseLossBackward>)"
      ]
     },
     "execution_count": 121,
     "metadata": {},
     "output_type": "execute_result"
    }
   ],
   "source": [
    "loss"
   ]
  },
  {
   "cell_type": "code",
   "execution_count": null,
   "metadata": {},
   "outputs": [],
   "source": []
  }
 ],
 "metadata": {
  "kernelspec": {
   "display_name": "Python 3",
   "language": "python",
   "name": "python3"
  },
  "language_info": {
   "codemirror_mode": {
    "name": "ipython",
    "version": 3
   },
   "file_extension": ".py",
   "mimetype": "text/x-python",
   "name": "python",
   "nbconvert_exporter": "python",
   "pygments_lexer": "ipython3",
   "version": "3.8.5"
  },
  "toc-autonumbering": false,
  "toc-showcode": false,
  "toc-showmarkdowntxt": true,
  "toc-showtags": false
 },
 "nbformat": 4,
 "nbformat_minor": 4
}
